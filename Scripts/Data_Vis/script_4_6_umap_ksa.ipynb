{
 "cells": [
  {
   "attachments": {},
   "cell_type": "markdown",
   "metadata": {},
   "source": [
    "# __Step 4.6: 2D representation of yeast genetic interaction network__\n",
    "\n",
    "Goals here:\n",
    "- Use UMAP to plot relationships between:\n",
    "  - Genes\n",
    "  - Genes of different pathways, biological processes, molecular functions\n",
    "  - Documents of the same topics but different time bins\n",
    "\n",
    "Based on:\n",
    "- [UMAP on sparse data](https://umap-learn.readthedocs.io/en/latest/sparse.html)\n",
    "\n",
    "Issues:\n",
    "- 2/9/23\n",
    "  - The topic model was generated using older version of BERTopic and it cannot be loaded with the current version.\n",
    "  - Try instead to get the topic assignment using the probability values.\n"
   ]
  },
  {
   "attachments": {},
   "cell_type": "markdown",
   "metadata": {},
   "source": [
    "## ___Set up___"
   ]
  },
  {
   "cell_type": "code",
   "execution_count": 1,
   "metadata": {},
   "outputs": [
    {
     "data": {
      "text/html": [
       "<style type='text/css'>\n",
       ".datatable table.frame { margin-bottom: 0; }\n",
       ".datatable table.frame thead { border-bottom: none; }\n",
       ".datatable table.frame tr.coltypes td {  color: #FFFFFF;  line-height: 6px;  padding: 0 0.5em;}\n",
       ".datatable .bool    { background: #DDDD99; }\n",
       ".datatable .object  { background: #565656; }\n",
       ".datatable .int     { background: #5D9E5D; }\n",
       ".datatable .float   { background: #4040CC; }\n",
       ".datatable .str     { background: #CC4040; }\n",
       ".datatable .row_index {  background: var(--jp-border-color3);  border-right: 1px solid var(--jp-border-color0);  color: var(--jp-ui-font-color3);  font-size: 9px;}\n",
       ".datatable .frame tr.coltypes .row_index {  background: var(--jp-border-color0);}\n",
       ".datatable th:nth-child(2) { padding-left: 12px; }\n",
       ".datatable .hellipsis {  color: var(--jp-cell-editor-border-color);}\n",
       ".datatable .vellipsis {  background: var(--jp-layout-color0);  color: var(--jp-cell-editor-border-color);}\n",
       ".datatable .na {  color: var(--jp-cell-editor-border-color);  font-size: 80%;}\n",
       ".datatable .footer { font-size: 9px; }\n",
       ".datatable .frame_dimensions {  background: var(--jp-border-color3);  border-top: 1px solid var(--jp-border-color0);  color: var(--jp-ui-font-color3);  display: inline-block;  opacity: 0.6;  padding: 1px 10px 1px 5px;}\n",
       "</style>\n"
      ],
      "text/plain": [
       "<IPython.core.display.HTML object>"
      ]
     },
     "metadata": {},
     "output_type": "display_data"
    }
   ],
   "source": [
    "import datatable as dt\n",
    "import pandas as pd\n",
    "import numpy as np\n",
    "import umap\n",
    "import umap.plot\n",
    "import matplotlib as mpl\n",
    "import matplotlib.pyplot as plt\n",
    "import pickle\n",
    "from matplotlib import colors\n",
    "from pathlib import Path"
   ]
  },
  {
   "cell_type": "code",
   "execution_count": 3,
   "metadata": {},
   "outputs": [],
   "source": [
    "# Reproducibility\n",
    "seed = 20230417\n",
    "\n",
    "# Setting working directory\n",
    "proj_dir   = Path.home() / \"Shiu_Lab/Project\"\n",
    "work_dir   = proj_dir / \"Scripts/Data_Vis\""
   ]
  },
  {
   "attachments": {},
   "cell_type": "markdown",
   "metadata": {},
   "source": [
    "## ___Read data to pre-process___"
   ]
  },
  {
   "attachments": {},
   "cell_type": "markdown",
   "metadata": {},
   "source": [
    "### Genetic Interaction Score Network"
   ]
  },
  {
   "cell_type": "code",
   "execution_count": null,
   "metadata": {},
   "outputs": [],
   "source": [
    "# pre-process the Costanzo et al. 2016 global genetic interaction network data\n",
    "costanzo = \"/mnt/home/seguraab/Shiu_Lab/Co-function/Data/Costanzo_2016/S1\"\n",
    "EE = dt.fread(f\"{costanzo}/SGA_ExE.txt\") # essential x essential gene pairs\n",
    "EN = dt.fread(f\"{costanzo}/SGA_ExN_NxE.txt\") # essential x nonessential gene pairs\n",
    "NN = dt.fread(f\"{costanzo}/SGA_NxN.txt\") # nonessential x nonessential gene pairs\n",
    "\n",
    "# add interaction type column\n",
    "EE[\"Type\"] = \"ExE\"\n",
    "EN[\"Type\"] = \"ExN\"\n",
    "NN[\"Type\"] = \"NxN\"\n",
    "\n",
    "# combine and save\n",
    "data = dt.rbind(EE, EN, NN)\n",
    "data.to_csv(f\"{proj_dir}/Data/Costanzo_2016/SGA_all.csv\")\n",
    "del EE, EN, NN"
   ]
  },
  {
   "cell_type": "code",
   "execution_count": null,
   "metadata": {},
   "outputs": [],
   "source": [
    "# keep only relevant columns\n",
    "data = dt.fread(f\"{proj_dir}/Data/Costanzo_2016/SGA_all.csv\")\n",
    "data = data.to_pandas()\n",
    "data = data[[\"Query Strain ID\", \"Array Strain ID\",\n",
    "             \"Genetic interaction score (ε)\", \"P-value\"]]\n",
    "data.shape # (19313654, 4)"
   ]
  },
  {
   "attachments": {},
   "cell_type": "markdown",
   "metadata": {},
   "source": [
    "### Genetic Interaction Similarity Network"
   ]
  },
  {
   "cell_type": "code",
   "execution_count": null,
   "metadata": {},
   "outputs": [],
   "source": [
    "gi_sim = dt.fread(\"~/Shiu_Lab/Project/Data/Costanzo_2016/S3/Global_Similarity_Network.txt\")\n",
    "gi_sim = gi_sim.to_pandas()\n",
    "gi_sim.head()"
   ]
  },
  {
   "attachments": {},
   "cell_type": "markdown",
   "metadata": {},
   "source": [
    "### Top predictive genes identified by Random Forest in each environment"
   ]
  },
  {
   "cell_type": "code",
   "execution_count": 4,
   "metadata": {},
   "outputs": [
    {
     "data": {
      "text/plain": [
       "(5178, 35)"
      ]
     },
     "execution_count": 4,
     "metadata": {},
     "output_type": "execute_result"
    }
   ],
   "source": [
    "## SNPs\n",
    "rf = pd.read_csv(f\"{proj_dir}/Scripts/Data_Vis/SNPs_imp_max_all_sorted.tsv\", sep=\"\\t\")\n",
    "rf.set_index(\"gene\", inplace=True)\n",
    "rf = rf.loc[rf.index!=\"intergenic\"] # drop intergenic SNP category\n",
    "rf.shape # (5178, 35)"
   ]
  },
  {
   "attachments": {},
   "cell_type": "markdown",
   "metadata": {},
   "source": [
    "## ___Create global genetic interaction adjacency matrix___"
   ]
  },
  {
   "attachments": {},
   "cell_type": "markdown",
   "metadata": {},
   "source": [
    "### Global Yeast GI Score Network Adjacency Matrix"
   ]
  },
  {
   "cell_type": "code",
   "execution_count": null,
   "metadata": {},
   "outputs": [],
   "source": [
    "# determine which gene pairs interact\n",
    "# stringent confidence threshold as recommended by \n",
    "# Costanzo et al., 2016 (P <0.05 and ε > 0.16 or ε < -0.12)\n",
    "data[\"Query Strain ID\"] = data[\"Query Strain ID\"].str.split(\"_\").str[0] # keep only gene name\n",
    "data[\"Array Strain ID\"] = data[\"Array Strain ID\"].str.split(\"_\").str[0]\n",
    "data = data.loc[data[\"P-value\"] <= 0.05,:] # remove non-significant interactions\n",
    "data = data.loc[(data[\"Genetic interaction score (ε)\"] >= 0.16) | \\\n",
    "\t\t\t\t(data[\"Genetic interaction score (ε)\"] <= -0.12), :]\n",
    "data.to_csv(f\"{proj_dir}/Data/Costanzo_2016/SGA_all_stringent.csv\", index=None) # save\n",
    "data.shape # (385132, 4)"
   ]
  },
  {
   "cell_type": "code",
   "execution_count": null,
   "metadata": {},
   "outputs": [],
   "source": [
    "# create adjacency matrix\n",
    "data = pd.read_csv(f\"{proj_dir}/Data/Costanzo_2016/SGA_all_stringent.csv\")\n",
    "data = data.iloc[:,:3]\n",
    "data.set_index([\"Query Strain ID\", \"Array Strain ID\"], inplace=True) # set MultiIndex\n",
    "data = data[~pd.DataFrame(np.sort(np.array(data.index.tolist()), 1)).duplicated().values]\n",
    "print(data.shape) # (331853, 1)\n",
    "adj = pd.pivot_table(data, values=\"Genetic interaction score (ε)\",\n",
    "\t\t\t\t\t columns=\"Array Strain ID\", index=\"Query Strain ID\")\n",
    "print(adj.shape) # (4922, 4450)\n",
    "adj.fillna(0, inplace=True) # replace NaN (for missing interactions)\n",
    "print(adj.isna().sum().unique()) # check for missing data\n",
    "adj.to_csv(f\"{proj_dir}/Data/Costanzo_2016/SGA_all_stringent_adjacency.csv\")"
   ]
  },
  {
   "attachments": {},
   "cell_type": "markdown",
   "metadata": {},
   "source": [
    "### Global Yeast GI Similarity Network Adjacency Matrix"
   ]
  },
  {
   "cell_type": "code",
   "execution_count": null,
   "metadata": {},
   "outputs": [],
   "source": [
    "gi_sim.columns = gi_sim.iloc[0,:]\n",
    "gi_sim.set_index(gi_sim.iloc[:,1], inplace=True)\n",
    "gi_sim = gi_sim.iloc[1:,2:]\n",
    "gi_sim.replace(\"NaN\", \"0\", inplace=True)\n",
    "gi_sim = gi_sim.apply(pd.to_numeric, axis=1)\n",
    "gi_sim.to_csv(f\"{proj_dir}/Data/Costanzo_2016/S3/Global_Similarity_Network_adjacency.csv\")\n",
    "gi_sim.head()"
   ]
  },
  {
   "attachments": {},
   "cell_type": "markdown",
   "metadata": {},
   "source": [
    "### Environment-specific GI Network adjacency Matrices [DON'T NEED TO DO THIS]"
   ]
  },
  {
   "cell_type": "code",
   "execution_count": null,
   "metadata": {},
   "outputs": [],
   "source": [
    "# get genetic interactions of top predictive genes in each environment\n",
    "# gi_rf = pd.DataFrame(columns=[\"Query Strain ID\", \"Array Strain ID\", \"Genetic interaction score (ε)\", \"Env\"])\n",
    "# gi_rf = []\n",
    "# not_in_query = []\n",
    "# for env in rf.columns: # loop through all environments\n",
    "# \tgenes = rf[env].loc[~rf[env].isna()].index # subset top genes in env\n",
    "# \tfor gene1 in genes:\n",
    "# \t\tif gene1 in data.index.get_level_values(\"Query Strain ID\"):\n",
    "# \t\t\t# get genetic interaction information of top genes in env based on Query gene\n",
    "# \t\t\tgi_gene1 = data.iloc[data.index.get_level_values(\"Query Strain ID\")==gene1]\n",
    "# \t\t\tgi_gene1[\"Env\"] = env # add environment label\n",
    "# \t\t\tgi_gene1.reset_index(inplace=True)\n",
    "# \t\t\t# gi_rf = pd.concat([gi_rf, gi_gene1], axis=0) # combine with gi_rf\n",
    "# \t\t\tgi_rf.append(gi_gene1)\n",
    "# \t\t# else:\n",
    "# \t\t\t# not_in_query.append(gene1) # gene has no interactions'\n",
    "# gi_rf = pd.concat(gi_rf, axis=0)\n",
    "# print(gi_rf.shape) # (1381788, 4)\n",
    "# gi_rf.to_csv(\n",
    "# \tf\"{proj_dir}/Data/Costanzo_2016/SGA_all_stringent_adjacency_only_envs.csv\",\n",
    "# \tindex=None, chunksize=1000)\n",
    "# print(len(set(not_in_query))) # 1071 unique genes\n",
    "# with open(f\"{proj_dir}/Data/Costanzo_2016/top_genes_any_env_not_in_SGA_all_stringent.txt\", \"w\") as f:\n",
    "# \tfor gene in not_in_query:\n",
    "# \t\tf.write(f\"{gene}\\n\")\n",
    "# not_in_query = set(not_in_query)"
   ]
  },
  {
   "cell_type": "code",
   "execution_count": null,
   "metadata": {},
   "outputs": [],
   "source": [
    "# read in combined adjacency matrix for all envs\n",
    "# gi_rf = dt.fread(f\"{proj_dir}/Data/Costanzo_2016/SGA_all_stringent_adjacency_only_envs.csv\")\n",
    "# gi_rf = gi_rf.to_pandas()"
   ]
  },
  {
   "cell_type": "code",
   "execution_count": null,
   "metadata": {},
   "outputs": [],
   "source": [
    "# make adjacency matrices for each environment\n",
    "# print(len(gi_rf.Env.unique())) # 35 environments\n",
    "# for env in gi_rf.Env.unique():\n",
    "# \tenv_gi = gi_rf.loc[gi_rf.Env==env]\n",
    "# \tadj_env = pd.pivot_table(env_gi, values=\"Genetic interaction score (ε)\",\n",
    "# \t\t\t\t\t\t\t columns=\"Array Strain ID\", index=\"Query Strain ID\")\n",
    "# \tadj_env.fillna(0, inplace=True)\n",
    "# \tadj_env.to_csv(f\"{proj_dir}/Data/Costanzo_2016/SGA_all_stringent_adjacency_{env}.csv\")"
   ]
  },
  {
   "attachments": {},
   "cell_type": "markdown",
   "metadata": {},
   "source": [
    "## ___UMAP run___"
   ]
  },
  {
   "cell_type": "markdown",
   "metadata": {},
   "source": [
    "### Functions"
   ]
  },
  {
   "cell_type": "code",
   "execution_count": 4,
   "metadata": {},
   "outputs": [],
   "source": [
    "# make genes array\n",
    "def make_genes_array(global_genes, env_genes):\n",
    "    \"\"\"Make a binary topics_array with 1,0 values, which tells umap which\n",
    "    points to color\n",
    "    Args:\n",
    "        global_genes (list): query genes in yeast global genetic interaction network\n",
    "            env\n",
    "        env_genes (list): query genes of a specific environment\n",
    "    \"\"\"\n",
    "    genes_array = []\n",
    "    for gene in global_genes:\n",
    "        if gene in env_genes:\n",
    "            genes_array.append(1),\n",
    "        else:\n",
    "            genes_array.append(0)\n",
    "    genes_array = np.array(genes_array)\n",
    "    return genes_array"
   ]
  },
  {
   "cell_type": "code",
   "execution_count": 18,
   "metadata": {},
   "outputs": [],
   "source": [
    "def get_mapper(embeddings, mapper_dir,\n",
    "\tfile=\"mapper_topics_all.pickle\", n_neighbors=15, min_dist=0.1,\n",
    "\tmetric='cosine',random_state=seed):\n",
    "\t''' Read or generate UMAP fitted obj\n",
    "\tArgs:\n",
    "\t\tmapper_dir (Posix path) - location where mapper file is or should be saved\n",
    "\t\tn_neighbors (int) - UMAP parameter, for constraining the size of the local \n",
    "\t\t\tneighborhood UMAP will look at when attempting to learn the manifold \n",
    "\t\t\tstructure of the data\n",
    "\t\tmin_dist (float) - UMAP parameter, minimum distance apart that points are \n",
    "\t\t\tallowed to be in the low dimensional representation\n",
    "\tReturn:\n",
    "\t\tmapper\n",
    "\t'''\n",
    "\t# Create dir if it does not exist\n",
    "\tmapper_dir.mkdir(parents=True, exist_ok=True)\n",
    "\tmapper_file = mapper_dir / file\n",
    "\t# read if exists\n",
    "\tif mapper_file.is_file():\n",
    "\t\twith open(mapper_file, \"rb\") as f:\n",
    "\t\t\tmapper = pickle.load(f)\n",
    "\t# else create mapper obj and save\n",
    "\telse:\n",
    "\t\tmodel  = umap.UMAP(n_neighbors=n_neighbors, min_dist=min_dist,\n",
    "\t\t\t\t\t\t   metric=metric, random_state=random_state)\n",
    "\t\tmapper = model.fit(embeddings)\n",
    "\t\twith open(mapper_file, \"wb\") as f:\n",
    "\t\t\tpickle.dump(mapper, f)\n",
    "\treturn mapper"
   ]
  },
  {
   "cell_type": "code",
   "execution_count": 5,
   "metadata": {},
   "outputs": [],
   "source": [
    "# get colors\n",
    "#To get color bins:\n",
    "#https://stackoverflow.com/questions/69085926/have-each-histogram-bin-with-a-different-color\n",
    "#Matplotlib color map\n",
    "#https://matplotlib.org/stable/gallery/color/colormap_reference.html \n",
    "#RGB and RGBA\n",
    "#https://matplotlib.org/stable/tutorials/colors/colors.html\n",
    "# rgb or rgba won't work for color_keys later, need hex color\n",
    "#https://matplotlib.org/3.1.1/api/_as_gen/matplotlib.colors.to_hex.html#matplotlib.colors.to_hex\n",
    "def get_ckeys(topics_array):\n",
    "\tcm = plt.cm.rainbow\n",
    "\tckeys = {i:colors.to_hex(cm(i/len(set(topics_array)))) for i in range(len(set(topics_array)))}\n",
    "\treturn ckeys"
   ]
  },
  {
   "cell_type": "code",
   "execution_count": 6,
   "metadata": {},
   "outputs": [],
   "source": [
    "# use default color map\n",
    "#umap.plot.points(mapper, labels=topics_array)\n",
    "#mapper_topics_all_plot = work_dir / 'fig_4_6_mapper_topics_all.pdf'\n",
    "\n",
    "def plot_overall(mapper_dir, mapper, labels, color_key, topic):\n",
    "\tumap.plot.points(mapper, labels=labels, color_key=color_key)\n",
    "\tmapper_topics_all_plot = mapper_dir / f'fig_4_6_mapper_topics_all_{topic}_labelled.pdf'\n",
    "\tplt.savefig(mapper_topics_all_plot)"
   ]
  },
  {
   "cell_type": "code",
   "execution_count": 7,
   "metadata": {},
   "outputs": [],
   "source": [
    "def umap_plot_each(mapper_dir, mapper, labels, topic, color):\n",
    "\tcolor_key={f\"topic={topic}\":color, \"all_others\":\"lightgray\"}\n",
    "\tumap.plot.points(mapper, labels=labels, color_key=color_key)\n",
    "\tmapper_topic_plot = mapper_dir / f'fig_4_6_mapper_topic_{topic}.pdf'\n",
    "\tplt.title(f'Topic {topic}')\n",
    "\tplt.savefig(mapper_topic_plot)\n",
    "\tplt.close()"
   ]
  },
  {
   "cell_type": "code",
   "execution_count": 8,
   "metadata": {},
   "outputs": [],
   "source": [
    "# go through topics\n",
    "def plot_each(mapper_dir, mapper, topics_array, ckeys): #, env):\n",
    "\tfor topic in range(-1, len(topics_array)):\n",
    "\t\ttopic_labels = []\n",
    "\t\tcolor = ckeys[topic+1]\n",
    "\n",
    "\t\t# Modify labels\n",
    "\t\tfor label in topics_array:\n",
    "\t\t\tif label == topic:\n",
    "\t\t\t\ttopic_labels.append(f\"topic={topic}\")\n",
    "\t\t\telse:\n",
    "\t\t\t\ttopic_labels.append(\"all_others\")\n",
    "\n",
    "\t\t# Change label list into an array for umap.plot\n",
    "\t\tlabels_array =  np.array(topic_labels)\n",
    "\n",
    "\t\t# Change legend labels (haven't tested yet)\n",
    "\t\t# if topic==1:\n",
    "\t\t# \ttopic = env\n",
    "\t\t# elif topic==0:\n",
    "\t\t# \ttopic = \"Yeast Global GI Network\"\n",
    "\t\t# Plotting\n",
    "\t\tumap_plot_each(mapper_dir, mapper, labels_array, topic, color)"
   ]
  },
  {
   "attachments": {},
   "cell_type": "markdown",
   "metadata": {},
   "source": [
    "### __Default parameters for Yeast GI Score Network Adjacency Matrix__"
   ]
  },
  {
   "cell_type": "code",
   "execution_count": 9,
   "metadata": {},
   "outputs": [
    {
     "data": {
      "text/html": [
       "<div>\n",
       "<style scoped>\n",
       "    .dataframe tbody tr th:only-of-type {\n",
       "        vertical-align: middle;\n",
       "    }\n",
       "\n",
       "    .dataframe tbody tr th {\n",
       "        vertical-align: top;\n",
       "    }\n",
       "\n",
       "    .dataframe thead th {\n",
       "        text-align: right;\n",
       "    }\n",
       "</style>\n",
       "<table border=\"1\" class=\"dataframe\">\n",
       "  <thead>\n",
       "    <tr style=\"text-align: right;\">\n",
       "      <th></th>\n",
       "      <th>YAL001C</th>\n",
       "      <th>YAL002W</th>\n",
       "      <th>YAL004W</th>\n",
       "      <th>YAL005C</th>\n",
       "      <th>YAL007C</th>\n",
       "      <th>YAL008W</th>\n",
       "      <th>YAL010C</th>\n",
       "      <th>YAL011W</th>\n",
       "      <th>YAL013W</th>\n",
       "      <th>YAL014C</th>\n",
       "      <th>...</th>\n",
       "      <th>YPR192W</th>\n",
       "      <th>YPR193C</th>\n",
       "      <th>YPR194C</th>\n",
       "      <th>YPR195C</th>\n",
       "      <th>YPR196W</th>\n",
       "      <th>YPR197C</th>\n",
       "      <th>YPR198W</th>\n",
       "      <th>YPR199C</th>\n",
       "      <th>YPR200C</th>\n",
       "      <th>YPR201W</th>\n",
       "    </tr>\n",
       "    <tr>\n",
       "      <th>Query Strain ID</th>\n",
       "      <th></th>\n",
       "      <th></th>\n",
       "      <th></th>\n",
       "      <th></th>\n",
       "      <th></th>\n",
       "      <th></th>\n",
       "      <th></th>\n",
       "      <th></th>\n",
       "      <th></th>\n",
       "      <th></th>\n",
       "      <th></th>\n",
       "      <th></th>\n",
       "      <th></th>\n",
       "      <th></th>\n",
       "      <th></th>\n",
       "      <th></th>\n",
       "      <th></th>\n",
       "      <th></th>\n",
       "      <th></th>\n",
       "      <th></th>\n",
       "      <th></th>\n",
       "    </tr>\n",
       "  </thead>\n",
       "  <tbody>\n",
       "    <tr>\n",
       "      <th>YAL001C</th>\n",
       "      <td>0.0</td>\n",
       "      <td>0.0</td>\n",
       "      <td>0.0</td>\n",
       "      <td>0.0</td>\n",
       "      <td>0.0</td>\n",
       "      <td>0.0</td>\n",
       "      <td>0.0</td>\n",
       "      <td>0.0</td>\n",
       "      <td>0.0</td>\n",
       "      <td>0.0</td>\n",
       "      <td>...</td>\n",
       "      <td>0.0</td>\n",
       "      <td>0.0</td>\n",
       "      <td>0.0</td>\n",
       "      <td>0.0</td>\n",
       "      <td>0.0</td>\n",
       "      <td>0.0</td>\n",
       "      <td>0.0</td>\n",
       "      <td>0.0</td>\n",
       "      <td>0.0</td>\n",
       "      <td>0.0</td>\n",
       "    </tr>\n",
       "    <tr>\n",
       "      <th>YAL002W</th>\n",
       "      <td>0.0</td>\n",
       "      <td>0.0</td>\n",
       "      <td>0.0</td>\n",
       "      <td>0.0</td>\n",
       "      <td>0.0</td>\n",
       "      <td>0.0</td>\n",
       "      <td>0.0</td>\n",
       "      <td>0.0</td>\n",
       "      <td>0.0</td>\n",
       "      <td>0.0</td>\n",
       "      <td>...</td>\n",
       "      <td>0.0</td>\n",
       "      <td>0.0</td>\n",
       "      <td>0.0</td>\n",
       "      <td>0.0</td>\n",
       "      <td>0.0</td>\n",
       "      <td>0.0</td>\n",
       "      <td>0.0</td>\n",
       "      <td>0.0</td>\n",
       "      <td>0.0</td>\n",
       "      <td>0.0</td>\n",
       "    </tr>\n",
       "    <tr>\n",
       "      <th>YAL007C</th>\n",
       "      <td>0.0</td>\n",
       "      <td>0.0</td>\n",
       "      <td>0.0</td>\n",
       "      <td>0.0</td>\n",
       "      <td>0.0</td>\n",
       "      <td>0.0</td>\n",
       "      <td>0.0</td>\n",
       "      <td>0.0</td>\n",
       "      <td>0.0</td>\n",
       "      <td>0.0</td>\n",
       "      <td>...</td>\n",
       "      <td>0.0</td>\n",
       "      <td>0.0</td>\n",
       "      <td>0.0</td>\n",
       "      <td>0.0</td>\n",
       "      <td>0.0</td>\n",
       "      <td>0.0</td>\n",
       "      <td>0.0</td>\n",
       "      <td>0.0</td>\n",
       "      <td>0.0</td>\n",
       "      <td>0.0</td>\n",
       "    </tr>\n",
       "    <tr>\n",
       "      <th>YAL008W</th>\n",
       "      <td>0.0</td>\n",
       "      <td>0.0</td>\n",
       "      <td>0.0</td>\n",
       "      <td>0.0</td>\n",
       "      <td>0.0</td>\n",
       "      <td>0.0</td>\n",
       "      <td>0.0</td>\n",
       "      <td>0.0</td>\n",
       "      <td>0.0</td>\n",
       "      <td>0.0</td>\n",
       "      <td>...</td>\n",
       "      <td>0.0</td>\n",
       "      <td>0.0</td>\n",
       "      <td>0.0</td>\n",
       "      <td>0.0</td>\n",
       "      <td>0.0</td>\n",
       "      <td>0.0</td>\n",
       "      <td>0.0</td>\n",
       "      <td>0.0</td>\n",
       "      <td>0.0</td>\n",
       "      <td>0.0</td>\n",
       "    </tr>\n",
       "    <tr>\n",
       "      <th>YAL009W</th>\n",
       "      <td>0.0</td>\n",
       "      <td>0.0</td>\n",
       "      <td>0.0</td>\n",
       "      <td>0.0</td>\n",
       "      <td>0.0</td>\n",
       "      <td>0.0</td>\n",
       "      <td>0.0</td>\n",
       "      <td>0.0</td>\n",
       "      <td>0.0</td>\n",
       "      <td>0.0</td>\n",
       "      <td>...</td>\n",
       "      <td>0.0</td>\n",
       "      <td>0.0</td>\n",
       "      <td>0.0</td>\n",
       "      <td>0.0</td>\n",
       "      <td>0.0</td>\n",
       "      <td>0.0</td>\n",
       "      <td>0.0</td>\n",
       "      <td>0.0</td>\n",
       "      <td>0.0</td>\n",
       "      <td>0.0</td>\n",
       "    </tr>\n",
       "  </tbody>\n",
       "</table>\n",
       "<p>5 rows × 4450 columns</p>\n",
       "</div>"
      ],
      "text/plain": [
       "                 YAL001C  YAL002W  YAL004W  YAL005C  YAL007C  YAL008W  \\\n",
       "Query Strain ID                                                         \n",
       "YAL001C              0.0      0.0      0.0      0.0      0.0      0.0   \n",
       "YAL002W              0.0      0.0      0.0      0.0      0.0      0.0   \n",
       "YAL007C              0.0      0.0      0.0      0.0      0.0      0.0   \n",
       "YAL008W              0.0      0.0      0.0      0.0      0.0      0.0   \n",
       "YAL009W              0.0      0.0      0.0      0.0      0.0      0.0   \n",
       "\n",
       "                 YAL010C  YAL011W  YAL013W  YAL014C  ...  YPR192W  YPR193C  \\\n",
       "Query Strain ID                                      ...                     \n",
       "YAL001C              0.0      0.0      0.0      0.0  ...      0.0      0.0   \n",
       "YAL002W              0.0      0.0      0.0      0.0  ...      0.0      0.0   \n",
       "YAL007C              0.0      0.0      0.0      0.0  ...      0.0      0.0   \n",
       "YAL008W              0.0      0.0      0.0      0.0  ...      0.0      0.0   \n",
       "YAL009W              0.0      0.0      0.0      0.0  ...      0.0      0.0   \n",
       "\n",
       "                 YPR194C  YPR195C  YPR196W  YPR197C  YPR198W  YPR199C  \\\n",
       "Query Strain ID                                                         \n",
       "YAL001C              0.0      0.0      0.0      0.0      0.0      0.0   \n",
       "YAL002W              0.0      0.0      0.0      0.0      0.0      0.0   \n",
       "YAL007C              0.0      0.0      0.0      0.0      0.0      0.0   \n",
       "YAL008W              0.0      0.0      0.0      0.0      0.0      0.0   \n",
       "YAL009W              0.0      0.0      0.0      0.0      0.0      0.0   \n",
       "\n",
       "                 YPR200C  YPR201W  \n",
       "Query Strain ID                    \n",
       "YAL001C              0.0      0.0  \n",
       "YAL002W              0.0      0.0  \n",
       "YAL007C              0.0      0.0  \n",
       "YAL008W              0.0      0.0  \n",
       "YAL009W              0.0      0.0  \n",
       "\n",
       "[5 rows x 4450 columns]"
      ]
     },
     "execution_count": 9,
     "metadata": {},
     "output_type": "execute_result"
    }
   ],
   "source": [
    "mapper_dir = work_dir / '_umap_default'\n",
    "global_embeddings = dt.fread(f\"{proj_dir}/Data/Costanzo_2016/SGA_all_stringent_adjacency.csv\", )\n",
    "global_embeddings = global_embeddings.to_pandas()\n",
    "global_embeddings.set_index(\"Query Strain ID\", inplace=True)\n",
    "global_genes = global_embeddings.index.to_list()\n",
    "global_embeddings.head()"
   ]
  },
  {
   "attachments": {},
   "cell_type": "markdown",
   "metadata": {},
   "source": [
    "#### UMAP of Global Yeast GI Score Network Pathway Modules"
   ]
  },
  {
   "cell_type": "code",
   "execution_count": null,
   "metadata": {},
   "outputs": [],
   "source": [
    "# Pathway annotations\n",
    "map = pd.read_csv(f\"~/Shiu_Lab/Co-function/Data/MetaCyc/All-genes-pathways-S288c_pivoted.txt\")\n",
    "# descriptions = pd.read_csv(f\"~/Shiu_Lab/Co-function/Data/MetaCyc/All-pathways-S288c_descriptions.txt\", sep=\"\\t\")\n",
    "map.head() #, descriptions.head()"
   ]
  },
  {
   "cell_type": "code",
   "execution_count": null,
   "metadata": {},
   "outputs": [],
   "source": [
    "map = map[[\"Accession.1\", \"Pathways.of.gene\"]]\n",
    "map.fillna(\"No_annotation\", inplace=True)\n",
    "map.drop_duplicates(inplace=True)\n",
    "map.set_index(\"Accession.1\", inplace=True)\n",
    "map.to_csv(f\"{proj_dir}/Data/Costanzo_2016/S288C_pathways.csv\")\n",
    "map.shape\n",
    "map.head()"
   ]
  },
  {
   "cell_type": "code",
   "execution_count": 10,
   "metadata": {},
   "outputs": [
    {
     "name": "stdout",
     "output_type": "stream",
     "text": [
      "4922\n",
      "['No_annotation', 'No_annotation', 'No_annotation', 'No_annotation', 'No_annotation', 'No_annotation', 'No_annotation', 'Multiple_pwys', 'No_annotation', 'No_annotation', 'No_annotation', 'No_annotation', 'No_annotation', 'No_annotation', 'No_annotation', 'No_annotation', 'No_annotation', 'No_annotation', 'PWY-7921', 'No_annotation', 'No_annotation', 'No_annotation', 'No_annotation', 'No_annotation', 'No_annotation', 'No_annotation', 'No_annotation', 'No_annotation', 'No_annotation', 'No_annotation', 'No_annotation', 'Multiple_pwys', 'PWY-8145', 'No_annotation', 'No_annotation', 'No_annotation', 'No_annotation', 'Multiple_pwys', 'No_annotation', 'No_annotation', 'No_annotation', 'No_annotation', 'No_annotation', 'No_annotation', 'Multiple_pwys', 'No_annotation', 'No_annotation', 'No_annotation', 'No_annotation', 'No_annotation', 'GLUTSYNIII-PWY', 'No_annotation', 'No_annotation', 'No_annotation', 'No_annotation', 'No_annotation', 'No_annotation', 'No_annotation', 'No_annotation', 'No_annotation', 'No_annotation', 'No_annotation', 'No_annotation', 'No_annotation', 'No_annotation', 'No_annotation', 'No_annotation', 'No_annotation', 'No_annotation', 'No_annotation', 'PWY3O-4', 'No_annotation', 'No_annotation', 'No_annotation', 'No_annotation', 'PWY-6348', 'No_annotation', 'No_annotation', 'No_annotation', 'No_annotation', 'No_annotation', 'No_annotation', 'No_annotation', 'No_annotation', 'No_annotation', 'No_annotation', 'No_annotation', 'No_annotation', 'Multiple_pwys', 'No_annotation', 'No_annotation', 'No_annotation', 'No_annotation', 'No_annotation', 'No_annotation', 'No_annotation', 'PWY-6829', 'No_annotation', 'No_annotation', 'No_annotation', 'No_annotation', 'No_annotation', 'No_annotation', 'No_annotation', 'No_annotation', 'Multiple_pwys', 'No_annotation', 'No_annotation', 'No_annotation', 'No_annotation', 'No_annotation', 'No_annotation', 'No_annotation', 'No_annotation', 'No_annotation', 'No_annotation', 'No_annotation', 'No_annotation', 'No_annotation', 'No_annotation', 'No_annotation', 'No_annotation', 'No_annotation', 'No_annotation', 'No_annotation', 'No_annotation', 'No_annotation', 'No_annotation', 'PWY0-662', 'No_annotation', 'No_annotation', 'PWY-7546', 'No_annotation', 'No_annotation', 'No_annotation', 'TRNA-CHARGING-PWY', 'No_annotation', 'No_annotation', 'Multiple_pwys', 'No_annotation', 'MANNOSYL-CHITO-DOLICHOL-BIOSYNTHESIS', 'PWY-7511-1', 'No_annotation', 'No_annotation', 'No_annotation', 'No_annotation', 'No_annotation', 'No_annotation', 'PWY-7800', 'No_annotation', 'No_annotation', 'No_annotation', 'Multiple_pwys', 'No_annotation', 'No_annotation', 'No_annotation', 'No_annotation', 'No_annotation', 'No_annotation', 'No_annotation', 'No_annotation', 'No_annotation', 'No_annotation', 'No_annotation', 'No_annotation', 'Multiple_pwys', 'PWY-6129', 'HEXPPSYN-PWY', 'No_annotation', 'PWY-6536', 'No_annotation', 'No_annotation', 'No_annotation', 'No_annotation', 'Multiple_pwys', 'PWY-8323', 'No_annotation', 'No_annotation', 'PWY-6317', 'Multiple_pwys', 'PWY-6317', 'PWY-6689', 'PWY-6981', 'No_annotation', 'No_annotation', 'PWY-7388', 'No_annotation', 'Multiple_pwys', 'No_annotation', 'No_annotation', 'No_annotation', 'No_annotation', 'Multiple_pwys', 'SPHINGOLIPID-SYN-PWY', 'No_annotation', 'PWY-6981', 'No_annotation', 'No_annotation', 'No_annotation', 'No_annotation', 'No_annotation', 'No_annotation', 'No_annotation', 'No_annotation', 'No_annotation', 'No_annotation', 'No_annotation', 'No_annotation', 'No_annotation', 'No_annotation', 'No_annotation', 'No_annotation', 'No_annotation', 'No_annotation', 'No_annotation', 'SPHINGOLIPID-SYN-PWY', 'No_annotation', 'No_annotation', 'PWY-6829', 'No_annotation', 'No_annotation', 'No_annotation', 'No_annotation', 'No_annotation', 'No_annotation', 'No_annotation', 'MANNOSYL-CHITO-DOLICHOL-BIOSYNTHESIS', 'No_annotation', 'No_annotation', 'No_annotation', 'No_annotation', 'No_annotation', 'No_annotation', 'No_annotation', 'PWY-7511-1', 'No_annotation', 'No_annotation', 'Multiple_pwys', 'No_annotation', 'No_annotation', 'No_annotation', 'No_annotation', 'No_annotation', 'No_annotation', 'No_annotation', 'Multiple_pwys', 'No_annotation', 'No_annotation', 'No_annotation', 'Multiple_pwys', 'No_annotation', 'No_annotation', 'No_annotation', 'PWY3O-4107', 'No_annotation', 'No_annotation', 'No_annotation', 'No_annotation', 'No_annotation', 'MANNOSYL-CHITO-DOLICHOL-BIOSYNTHESIS', 'No_annotation', 'No_annotation', 'No_annotation', 'PWY-7511-1', 'Multiple_pwys', 'No_annotation', 'No_annotation', 'No_annotation', 'TRNA-CHARGING-PWY', 'No_annotation', 'No_annotation', 'No_annotation', 'TRESYN-PWY', 'Multiple_pwys', 'No_annotation', 'No_annotation', 'No_annotation', 'No_annotation', 'No_annotation', 'No_annotation', 'No_annotation', 'No_annotation', 'No_annotation', 'PWY-6842-1', 'No_annotation', 'No_annotation', 'No_annotation', 'Multiple_pwys', 'No_annotation', 'No_annotation', 'No_annotation', 'No_annotation', 'No_annotation', 'No_annotation', 'No_annotation', 'PWY-6168', 'No_annotation', 'No_annotation', 'No_annotation', 'No_annotation', 'SPHINGOLIPID-SYN-PWY', 'No_annotation', 'No_annotation', 'No_annotation', 'No_annotation', 'No_annotation', 'Multiple_pwys', 'No_annotation', 'No_annotation', 'No_annotation', 'No_annotation', 'No_annotation', 'No_annotation', 'No_annotation', 'PANTO-PWY', 'No_annotation', 'No_annotation', 'No_annotation', 'No_annotation', 'No_annotation', 'No_annotation', 'PWY-7119', 'No_annotation', 'No_annotation', 'No_annotation', 'No_annotation', 'No_annotation', 'No_annotation', 'No_annotation', 'No_annotation', 'No_annotation', 'No_annotation', 'Multiple_pwys', 'No_annotation', 'No_annotation', 'No_annotation', 'No_annotation', 'No_annotation', 'No_annotation', 'No_annotation', 'No_annotation', 'No_annotation', 'No_annotation', 'PWY-7921', 'No_annotation', 'Multiple_pwys', 'No_annotation', 'No_annotation', 'No_annotation', 'PWY-5194', 'No_annotation', 'No_annotation', 'No_annotation', 'No_annotation', 'Multiple_pwys', 'No_annotation', 'PYRUVDEHYD-PWY', 'No_annotation', 'No_annotation', 'No_annotation', 'No_annotation', 'No_annotation', 'PWY-7918', 'No_annotation', 'No_annotation', 'No_annotation', 'No_annotation', 'No_annotation', 'PWY-7375', 'No_annotation', 'No_annotation', 'No_annotation', 'No_annotation', 'No_annotation', 'No_annotation', 'Multiple_pwys', 'No_annotation', 'PWY-7546', 'No_annotation', 'Multiple_pwys', 'No_annotation', 'No_annotation', 'PWY-7184', 'No_annotation', 'No_annotation', 'No_annotation', 'No_annotation', 'PWY-6168', 'No_annotation', 'No_annotation', 'No_annotation', 'No_annotation', 'Multiple_pwys', 'No_annotation', 'SPHINGOLIPID-SYN-PWY', 'No_annotation', 'No_annotation', 'No_annotation', 'No_annotation', 'No_annotation', 'No_annotation', 'No_annotation', 'No_annotation', 'No_annotation', 'No_annotation', 'PWY-7511-1', 'PWY-7559', 'No_annotation', 'No_annotation', 'No_annotation', 'No_annotation', 'No_annotation', 'No_annotation', 'No_annotation', 'No_annotation', 'No_annotation', 'No_annotation', 'No_annotation', 'No_annotation', 'No_annotation', 'No_annotation', 'No_annotation', 'No_annotation', 'No_annotation', 'No_annotation', 'No_annotation', 'No_annotation', 'No_annotation', 'No_annotation', 'No_annotation', 'No_annotation', 'No_annotation', 'No_annotation', 'No_annotation', 'Multiple_pwys', 'No_annotation', 'No_annotation', 'No_annotation', 'Multiple_pwys', 'No_annotation', 'No_annotation', 'No_annotation', 'No_annotation', 'No_annotation', 'No_annotation', 'No_annotation', 'No_annotation', 'Multiple_pwys', 'No_annotation', 'No_annotation', 'No_annotation', 'Multiple_pwys', 'No_annotation', 'No_annotation', 'No_annotation', 'PWY3O-4106', 'No_annotation', 'No_annotation', 'No_annotation', 'No_annotation', 'No_annotation', 'No_annotation', 'No_annotation', 'No_annotation', 'No_annotation', 'No_annotation', 'No_annotation', 'No_annotation', 'Multiple_pwys', 'No_annotation', 'No_annotation', 'No_annotation', 'No_annotation', 'No_annotation', 'No_annotation', 'No_annotation', 'Multiple_pwys', 'No_annotation', 'No_annotation', 'No_annotation', 'No_annotation', 'No_annotation', 'No_annotation', 'No_annotation', 'No_annotation', 'No_annotation', 'No_annotation', 'No_annotation', 'No_annotation', 'No_annotation', 'No_annotation', 'TRNA-CHARGING-PWY', 'No_annotation', 'PWY-7184', 'No_annotation', 'No_annotation', 'PWY3O-4107', 'No_annotation', 'No_annotation', 'No_annotation', 'No_annotation', 'No_annotation', 'PWY-7424', 'No_annotation', 'HOMOSER-THRESYN-PWY', 'No_annotation', 'No_annotation', 'No_annotation', 'No_annotation', 'No_annotation', 'No_annotation', 'PWY-7511-1', 'No_annotation', 'No_annotation', 'No_annotation', 'No_annotation', 'No_annotation', 'No_annotation', 'No_annotation', 'No_annotation', 'No_annotation', 'No_annotation', 'No_annotation', 'No_annotation', 'Multiple_pwys', 'No_annotation', 'No_annotation', 'No_annotation', 'No_annotation', 'No_annotation', 'No_annotation', 'No_annotation', 'No_annotation', 'No_annotation', 'No_annotation', 'No_annotation', 'No_annotation', 'No_annotation', 'No_annotation', 'No_annotation', 'No_annotation', 'No_annotation', 'No_annotation', 'No_annotation', 'No_annotation', 'No_annotation', 'No_annotation', 'No_annotation', 'No_annotation', 'No_annotation', 'Multiple_pwys', 'No_annotation', 'PWY-7511-1', 'No_annotation', 'PWY-7036', 'No_annotation', 'No_annotation', 'No_annotation', 'No_annotation', 'No_annotation', 'Multiple_pwys', 'No_annotation', 'No_annotation', 'No_annotation', 'No_annotation', 'No_annotation', 'No_annotation', 'PWY-7891', 'No_annotation', 'No_annotation', 'No_annotation', 'No_annotation', 'PWY-7800', 'No_annotation', 'No_annotation', 'PWY-6168', 'No_annotation', 'No_annotation', 'No_annotation', 'Multiple_pwys', 'No_annotation', 'No_annotation', 'No_annotation', 'No_annotation', 'No_annotation', 'No_annotation', 'No_annotation', 'No_annotation', 'No_annotation', 'No_annotation', 'PWY-3781-1', 'No_annotation', 'No_annotation', 'No_annotation', 'PWY-7511-1', 'No_annotation', 'No_annotation', 'Multiple_pwys', 'No_annotation', 'Multiple_pwys', 'No_annotation', 'No_annotation', 'No_annotation', 'No_annotation', 'PWY-7269-YEAST', 'No_annotation', 'No_annotation', 'No_annotation', 'No_annotation', 'No_annotation', 'PWY-7921', 'PWY-7921', 'No_annotation', 'No_annotation', 'No_annotation', 'No_annotation', 'No_annotation', 'No_annotation', 'Multiple_pwys', 'PWY0-1587', 'No_annotation', 'No_annotation', 'No_annotation', 'No_annotation', 'No_annotation', 'No_annotation', 'No_annotation', 'No_annotation', 'No_annotation', 'No_annotation', 'No_annotation', 'No_annotation', 'No_annotation', 'No_annotation', 'No_annotation', 'No_annotation', 'No_annotation', 'No_annotation', 'No_annotation', 'No_annotation', 'No_annotation', 'No_annotation', 'No_annotation', 'PWY-7511-1', 'No_annotation', 'No_annotation', 'No_annotation', 'No_annotation', 'No_annotation', 'No_annotation', 'No_annotation', 'No_annotation', 'No_annotation', 'PWY-5269', 'No_annotation', 'No_annotation', 'No_annotation', 'No_annotation', 'No_annotation', 'No_annotation', 'No_annotation', 'No_annotation', 'No_annotation', 'No_annotation', 'No_annotation', 'No_annotation', 'No_annotation', 'No_annotation', 'No_annotation', 'No_annotation', 'Multiple_pwys', 'No_annotation', 'No_annotation', 'Multiple_pwys', 'PWY-5386-1', 'No_annotation', 'No_annotation', 'No_annotation', 'No_annotation', 'No_annotation', 'No_annotation', 'No_annotation', 'LYSINE-AMINOAD-PWY', 'No_annotation', 'No_annotation', 'No_annotation', 'No_annotation', 'No_annotation', 'No_annotation', 'No_annotation', 'No_annotation', 'PWY-6129', 'No_annotation', 'No_annotation', 'No_annotation', 'No_annotation', 'No_annotation', 'No_annotation', 'No_annotation', 'No_annotation', 'No_annotation', 'No_annotation', 'No_annotation', 'PWY-8341', 'No_annotation', 'No_annotation', 'No_annotation', 'GLUTAMATE-DEG1-PWY', 'No_annotation', 'No_annotation', 'No_annotation', 'No_annotation', 'No_annotation', 'No_annotation', 'No_annotation', 'No_annotation', 'No_annotation', 'No_annotation', 'No_annotation', 'No_annotation', 'No_annotation', 'MANNOSYL-CHITO-DOLICHOL-BIOSYNTHESIS', 'No_annotation', 'No_annotation', 'No_annotation', 'No_annotation', 'No_annotation', 'No_annotation', 'No_annotation', 'No_annotation', 'No_annotation', 'No_annotation', 'No_annotation', 'PWY-4101', 'No_annotation', 'Multiple_pwys', 'No_annotation', 'No_annotation', 'No_annotation', 'No_annotation', 'No_annotation', 'No_annotation', 'Multiple_pwys', 'No_annotation', 'No_annotation', 'No_annotation', 'No_annotation', 'No_annotation', 'No_annotation', 'No_annotation', 'Multiple_pwys', 'Multiple_pwys', 'No_annotation', 'No_annotation', 'No_annotation', 'No_annotation', 'No_annotation', 'No_annotation', 'No_annotation', 'No_annotation', 'No_annotation', 'No_annotation', 'No_annotation', 'Multiple_pwys', 'No_annotation', 'TRNA-CHARGING-PWY', 'No_annotation', 'No_annotation', 'No_annotation', 'No_annotation', 'Multiple_pwys', 'No_annotation', 'No_annotation', 'Multiple_pwys', 'No_annotation', 'Multiple_pwys', 'PWY-6348', 'No_annotation', 'PWY-7511-1', 'No_annotation', 'No_annotation', 'No_annotation', 'Multiple_pwys', 'PWY-7511-1', 'No_annotation', 'No_annotation', 'SPHINGOLIPID-SYN-PWY', 'No_annotation', 'No_annotation', 'No_annotation', 'No_annotation', 'No_annotation', 'No_annotation', 'No_annotation', 'No_annotation', 'No_annotation', 'SPHINGOLIPID-SYN-PWY', 'No_annotation', 'Multiple_pwys', 'No_annotation', 'No_annotation', 'No_annotation', 'No_annotation', 'No_annotation', 'No_annotation', 'No_annotation', 'No_annotation', 'No_annotation', 'No_annotation', 'No_annotation', 'No_annotation', 'No_annotation', 'No_annotation', 'No_annotation', 'No_annotation', 'PWY-7511-1', 'No_annotation', 'No_annotation', 'No_annotation', 'Multiple_pwys', 'No_annotation', 'No_annotation', 'No_annotation', 'No_annotation', 'No_annotation', 'No_annotation', 'No_annotation', 'No_annotation', 'No_annotation', 'No_annotation', 'Multiple_pwys', 'No_annotation', 'No_annotation', 'No_annotation', 'No_annotation', 'No_annotation', 'PWY-6829', 'No_annotation', 'No_annotation', 'No_annotation', 'No_annotation', 'No_annotation', 'No_annotation', 'Multiple_pwys', 'No_annotation', 'No_annotation', 'No_annotation', 'PWY-7511-1', 'No_annotation', 'No_annotation', 'Multiple_pwys', 'No_annotation', 'No_annotation', 'No_annotation', 'No_annotation', 'No_annotation', 'No_annotation', 'No_annotation', 'No_annotation', 'Multiple_pwys', 'Multiple_pwys', 'No_annotation', 'No_annotation', 'No_annotation', 'No_annotation', 'PWY3O-4107', 'No_annotation', 'HOMOSERSYN-PWY', 'No_annotation', 'No_annotation', 'No_annotation', 'No_annotation', 'No_annotation', 'No_annotation', 'No_annotation', 'No_annotation', 'No_annotation', 'No_annotation', 'No_annotation', 'No_annotation', 'No_annotation', 'No_annotation', 'No_annotation', 'No_annotation', 'PWY-7511-1', 'PWY-3781-1', 'No_annotation', 'No_annotation', 'No_annotation', 'No_annotation', 'No_annotation', 'No_annotation', 'No_annotation', 'No_annotation', 'No_annotation', 'No_annotation', 'No_annotation', 'No_annotation', 'No_annotation', 'PWY3O-4107', 'No_annotation', 'No_annotation', 'No_annotation', 'No_annotation', 'PWY-7851', 'No_annotation', 'No_annotation', 'No_annotation', 'No_annotation', 'No_annotation', 'No_annotation', 'No_annotation', 'No_annotation', 'No_annotation', 'Multiple_pwys', 'No_annotation', 'PWY3O-123', 'No_annotation', 'No_annotation', 'No_annotation', 'No_annotation', 'No_annotation', 'No_annotation', 'No_annotation', 'PWY-7918', 'No_annotation', 'No_annotation', 'No_annotation', 'Multiple_pwys', 'No_annotation', 'No_annotation', 'No_annotation', 'Multiple_pwys', 'No_annotation', 'PWY-6168', 'No_annotation', 'No_annotation', 'No_annotation', 'PWY3O-4107', 'No_annotation', 'No_annotation', 'PWY-8323', 'No_annotation', 'No_annotation', 'GLUCONSUPER-PWY', 'No_annotation', 'No_annotation', 'No_annotation', 'No_annotation', 'No_annotation', 'No_annotation', 'Multiple_pwys', 'No_annotation', 'No_annotation', 'No_annotation', 'PWY-7511-1', 'No_annotation', 'No_annotation', 'No_annotation', 'No_annotation', 'No_annotation', 'No_annotation', 'No_annotation', 'TRNA-CHARGING-PWY', 'No_annotation', 'No_annotation', 'No_annotation', 'No_annotation', 'No_annotation', 'No_annotation', 'No_annotation', 'No_annotation', 'No_annotation', 'TRIGLSYN-PWY', 'No_annotation', 'PWY-2301', 'No_annotation', 'No_annotation', 'No_annotation', 'No_annotation', 'No_annotation', 'PWY-7119', 'No_annotation', 'No_annotation', 'SPHINGOLIPID-SYN-PWY', 'No_annotation', 'No_annotation', 'No_annotation', 'No_annotation', 'No_annotation', 'No_annotation', 'No_annotation', 'No_annotation', 'No_annotation', 'No_annotation', 'No_annotation', 'PWY3O-4107', 'No_annotation', 'No_annotation', 'No_annotation', 'No_annotation', 'Multiple_pwys', 'No_annotation', 'No_annotation', 'No_annotation', 'No_annotation', 'No_annotation', 'No_annotation', 'No_annotation', 'No_annotation', 'No_annotation', 'No_annotation', 'No_annotation', 'No_annotation', 'No_annotation', 'No_annotation', 'No_annotation', 'No_annotation', 'No_annotation', 'No_annotation', 'No_annotation', 'No_annotation', 'No_annotation', 'No_annotation', 'TRNA-CHARGING-PWY', 'No_annotation', 'No_annotation', 'No_annotation', 'No_annotation', 'No_annotation', 'No_annotation', 'No_annotation', 'No_annotation', 'No_annotation', 'Multiple_pwys', 'No_annotation', 'No_annotation', 'No_annotation', 'No_annotation', 'Multiple_pwys', 'No_annotation', 'No_annotation', 'No_annotation', 'No_annotation', 'Multiple_pwys', 'No_annotation', 'No_annotation', 'No_annotation', 'No_annotation', 'No_annotation', 'No_annotation', 'No_annotation', 'No_annotation', 'No_annotation', 'Multiple_pwys', 'No_annotation', 'No_annotation', 'No_annotation', 'No_annotation', 'No_annotation', 'No_annotation', 'No_annotation', 'No_annotation', 'No_annotation', 'No_annotation', 'No_annotation', 'No_annotation', 'No_annotation', 'No_annotation', 'No_annotation', 'Multiple_pwys', 'Multiple_pwys', 'No_annotation', 'No_annotation', 'No_annotation', 'No_annotation', 'Multiple_pwys', 'No_annotation', 'No_annotation', 'No_annotation', 'No_annotation', 'No_annotation', 'No_annotation', 'No_annotation', 'No_annotation', 'No_annotation', 'No_annotation', 'No_annotation', 'No_annotation', 'Multiple_pwys', 'No_annotation', 'No_annotation', 'No_annotation', 'No_annotation', 'No_annotation', 'No_annotation', 'No_annotation', 'No_annotation', 'No_annotation', 'No_annotation', 'No_annotation', 'No_annotation', 'No_annotation', 'No_annotation', 'No_annotation', 'No_annotation', 'No_annotation', 'No_annotation', 'No_annotation', 'No_annotation', 'Multiple_pwys', 'No_annotation', 'PWY-7511-1', 'No_annotation', 'No_annotation', 'No_annotation', 'No_annotation', 'No_annotation', 'No_annotation', 'No_annotation', 'No_annotation', 'No_annotation', 'No_annotation', 'No_annotation', 'No_annotation', 'No_annotation', 'No_annotation', 'No_annotation', 'No_annotation', 'No_annotation', 'No_annotation', 'No_annotation', 'PWY-6859', 'No_annotation', 'PWY-7921', 'No_annotation', 'No_annotation', 'No_annotation', 'No_annotation', 'No_annotation', 'No_annotation', 'No_annotation', 'No_annotation', 'No_annotation', 'No_annotation', 'No_annotation', 'No_annotation', 'No_annotation', 'No_annotation', 'No_annotation', 'Multiple_pwys', 'TRIGLSYN-PWY', 'No_annotation', 'No_annotation', 'No_annotation', 'No_annotation', 'No_annotation', 'No_annotation', 'Multiple_pwys', 'No_annotation', 'No_annotation', 'No_annotation', 'No_annotation', 'No_annotation', 'No_annotation', 'No_annotation', 'No_annotation', 'No_annotation', 'No_annotation', 'No_annotation', 'No_annotation', 'No_annotation', 'No_annotation', 'No_annotation', 'PWY-3781-1', 'No_annotation', 'PANTO-PWY', 'No_annotation', 'No_annotation', 'No_annotation', 'PWY0-1597', 'No_annotation', 'No_annotation', 'No_annotation', 'No_annotation', 'No_annotation', 'No_annotation', 'MANNOSYL-CHITO-DOLICHOL-BIOSYNTHESIS', 'No_annotation', 'No_annotation', 'No_annotation', 'No_annotation', 'No_annotation', 'No_annotation', 'PWY-5067', 'PWY-7511-1', 'No_annotation', 'No_annotation', 'PWY-7184', 'No_annotation', 'Multiple_pwys', 'No_annotation', 'No_annotation', 'PWY-7985', 'No_annotation', 'PWY-3781-1', 'No_annotation', 'No_annotation', 'No_annotation', 'Multiple_pwys', 'No_annotation', 'No_annotation', 'No_annotation', 'No_annotation', 'No_annotation', 'PWY-8323', 'No_annotation', 'PWY-4361-1', 'No_annotation', 'Multiple_pwys', 'No_annotation', 'No_annotation', 'No_annotation', 'No_annotation', 'No_annotation', 'No_annotation', 'No_annotation', 'No_annotation', 'PWY-7800', 'No_annotation', 'No_annotation', 'No_annotation', 'No_annotation', 'No_annotation', 'No_annotation', 'No_annotation', 'No_annotation', 'No_annotation', 'No_annotation', 'No_annotation', 'PWY-5386-1', 'No_annotation', 'No_annotation', 'No_annotation', 'No_annotation', 'No_annotation', 'Multiple_pwys', 'No_annotation', 'Multiple_pwys', 'No_annotation', 'Multiple_pwys', 'No_annotation', 'No_annotation', 'No_annotation', 'No_annotation', 'No_annotation', 'No_annotation', 'No_annotation', 'No_annotation', 'No_annotation', 'No_annotation', 'Multiple_pwys', 'No_annotation', 'No_annotation', 'No_annotation', 'No_annotation', 'PWY-7119', 'No_annotation', 'PWY3O-4', 'No_annotation', 'No_annotation', 'No_annotation', 'No_annotation', 'No_annotation', 'No_annotation', 'No_annotation', 'No_annotation', 'No_annotation', 'PWY-7185', 'No_annotation', 'No_annotation', 'No_annotation', 'No_annotation', 'No_annotation', 'No_annotation', 'No_annotation', 'No_annotation', 'No_annotation', 'No_annotation', 'Multiple_pwys', 'No_annotation', 'HOMOSERSYN-PWY', 'No_annotation', 'No_annotation', 'No_annotation', 'No_annotation', 'No_annotation', 'No_annotation', 'No_annotation', 'No_annotation', 'No_annotation', 'No_annotation', 'Multiple_pwys', 'PWY3O-48', 'No_annotation', 'No_annotation', 'GLYOXYLATE-BYPASS', 'No_annotation', 'No_annotation', 'No_annotation', 'No_annotation', 'Multiple_pwys', 'No_annotation', 'No_annotation', 'No_annotation', 'No_annotation', 'No_annotation', 'No_annotation', 'No_annotation', 'No_annotation', 'Multiple_pwys', 'No_annotation', 'No_annotation', 'No_annotation', 'Multiple_pwys', 'No_annotation', 'TRNA-CHARGING-PWY', 'No_annotation', 'No_annotation', 'Multiple_pwys', 'Multiple_pwys', 'No_annotation', 'No_annotation', 'No_annotation', 'No_annotation', 'No_annotation', 'No_annotation', 'No_annotation', 'PWY0-662', 'PWY-7511-1', 'No_annotation', 'No_annotation', 'No_annotation', 'No_annotation', 'No_annotation', 'No_annotation', 'No_annotation', 'No_annotation', 'No_annotation', 'No_annotation', 'No_annotation', 'PWY-7511-1', 'No_annotation', 'No_annotation', 'No_annotation', 'No_annotation', 'No_annotation', 'No_annotation', 'No_annotation', 'PWY-7511-1', 'No_annotation', 'No_annotation', 'No_annotation', 'No_annotation', 'No_annotation', 'No_annotation', 'No_annotation', 'No_annotation', 'No_annotation', 'No_annotation', 'PWY-7856', 'No_annotation', 'No_annotation', 'No_annotation', 'No_annotation', 'No_annotation', 'No_annotation', 'No_annotation', 'No_annotation', 'LYSINE-AMINOAD-PWY', 'No_annotation', 'No_annotation', 'No_annotation', 'No_annotation', 'No_annotation', 'No_annotation', 'No_annotation', 'No_annotation', 'No_annotation', 'PWY-7942', 'No_annotation', 'No_annotation', 'No_annotation', 'No_annotation', 'No_annotation', 'No_annotation', 'No_annotation', 'No_annotation', 'No_annotation', 'No_annotation', 'Multiple_pwys', 'No_annotation', 'No_annotation', 'No_annotation', 'No_annotation', 'PYRUVDEHYD-PWY', 'No_annotation', 'No_annotation', 'No_annotation', 'PWY-2201-1', 'No_annotation', 'No_annotation', 'No_annotation', 'No_annotation', 'No_annotation', 'No_annotation', 'No_annotation', 'No_annotation', 'No_annotation', 'No_annotation', 'No_annotation', 'No_annotation', 'No_annotation', 'PWY-7511-1', 'No_annotation', 'No_annotation', 'No_annotation', 'No_annotation', 'No_annotation', 'No_annotation', 'Multiple_pwys', 'Multiple_pwys', 'No_annotation', 'No_annotation', 'TRNA-CHARGING-PWY', 'No_annotation', 'No_annotation', 'No_annotation', 'No_annotation', 'GLYSYN-ALA-PWY', 'No_annotation', 'No_annotation', 'No_annotation', 'No_annotation', 'No_annotation', 'No_annotation', 'No_annotation', 'No_annotation', 'No_annotation', 'No_annotation', 'No_annotation', 'No_annotation', 'No_annotation', 'Multiple_pwys', 'No_annotation', 'No_annotation', 'No_annotation', 'No_annotation', 'No_annotation', 'No_annotation', 'No_annotation', 'No_annotation', 'No_annotation', 'No_annotation', 'No_annotation', 'PWY-7282', 'Multiple_pwys', 'No_annotation', 'No_annotation', 'No_annotation', 'No_annotation', 'No_annotation', 'No_annotation', 'No_annotation', 'No_annotation', 'No_annotation', 'No_annotation', 'No_annotation', 'No_annotation', 'No_annotation', 'No_annotation', 'No_annotation', 'No_annotation', 'PWY-5067', 'No_annotation', 'No_annotation', 'No_annotation', 'Multiple_pwys', 'Multiple_pwys', 'No_annotation', 'No_annotation', 'No_annotation', 'No_annotation', 'No_annotation', 'Multiple_pwys', 'No_annotation', 'No_annotation', 'No_annotation', 'No_annotation', 'No_annotation', 'PWY-3781-1', 'No_annotation', 'No_annotation', 'PWY-7511-1', 'No_annotation', 'No_annotation', 'No_annotation', 'No_annotation', 'No_annotation', 'No_annotation', 'Multiple_pwys', 'No_annotation', 'No_annotation', 'Multiple_pwys', 'No_annotation', 'Multiple_pwys', 'No_annotation', 'No_annotation', 'No_annotation', 'Multiple_pwys', 'Multiple_pwys', 'No_annotation', 'Multiple_pwys', 'No_annotation', 'PWY-7511-1', 'No_annotation', 'No_annotation', 'No_annotation', 'No_annotation', 'No_annotation', 'No_annotation', 'No_annotation', 'Multiple_pwys', 'No_annotation', 'No_annotation', 'No_annotation', 'No_annotation', 'No_annotation', 'No_annotation', 'MANNOSYL-CHITO-DOLICHOL-BIOSYNTHESIS', 'No_annotation', 'PWY-7918', 'No_annotation', 'No_annotation', 'No_annotation', 'No_annotation', 'No_annotation', 'PWY3O-4107', 'No_annotation', 'No_annotation', 'No_annotation', 'No_annotation', 'No_annotation', 'MANNOSYL-CHITO-DOLICHOL-BIOSYNTHESIS', 'No_annotation', 'No_annotation', 'Multiple_pwys', 'No_annotation', 'No_annotation', 'Multiple_pwys', 'No_annotation', 'No_annotation', 'PWY-7511-1', 'No_annotation', 'No_annotation', 'Multiple_pwys', 'No_annotation', 'No_annotation', 'MANNOSYL-CHITO-DOLICHOL-BIOSYNTHESIS', 'No_annotation', 'PERIPLASMA-NAD-DEGRADATION', 'No_annotation', 'No_annotation', 'No_annotation', 'No_annotation', 'No_annotation', 'No_annotation', 'No_annotation', 'No_annotation', 'No_annotation', 'No_annotation', 'No_annotation', 'No_annotation', 'No_annotation', 'PWY-7511-1', 'No_annotation', 'No_annotation', 'No_annotation', 'No_annotation', 'No_annotation', 'No_annotation', 'No_annotation', 'No_annotation', 'No_annotation', 'No_annotation', 'No_annotation', 'No_annotation', 'No_annotation', 'No_annotation', 'No_annotation', 'No_annotation', 'No_annotation', 'No_annotation', 'No_annotation', 'No_annotation', 'No_annotation', 'No_annotation', 'No_annotation', 'PWY-7511-1', 'No_annotation', 'No_annotation', 'No_annotation', 'No_annotation', 'No_annotation', 'No_annotation', 'No_annotation', 'Multiple_pwys', 'No_annotation', 'No_annotation', 'PWY-7375', 'No_annotation', 'No_annotation', 'No_annotation', 'No_annotation', 'No_annotation', 'No_annotation', 'No_annotation', 'No_annotation', 'No_annotation', 'No_annotation', 'No_annotation', 'No_annotation', 'No_annotation', 'No_annotation', 'No_annotation', 'No_annotation', 'Multiple_pwys', 'No_annotation', 'No_annotation', 'No_annotation', 'No_annotation', 'No_annotation', 'No_annotation', 'No_annotation', 'No_annotation', 'No_annotation', 'No_annotation', 'No_annotation', 'No_annotation', 'No_annotation', 'No_annotation', 'No_annotation', 'No_annotation', 'PWY0-1587', 'No_annotation', 'No_annotation', 'No_annotation', 'No_annotation', 'No_annotation', 'No_annotation', 'No_annotation', 'No_annotation', 'No_annotation', 'No_annotation', 'No_annotation', 'Multiple_pwys', 'No_annotation', 'PWY-7282', 'PWY-3781-1', 'No_annotation', 'No_annotation', 'No_annotation', 'PWY-3781-1', 'No_annotation', 'PWY3O-4107', 'No_annotation', 'PWY0-1535', 'No_annotation', 'No_annotation', 'No_annotation', 'No_annotation', 'Multiple_pwys', 'No_annotation', 'Multiple_pwys', 'No_annotation', 'No_annotation', 'No_annotation', 'No_annotation', 'PWY-7888', 'No_annotation', 'No_annotation', 'No_annotation', 'No_annotation', 'No_annotation', 'No_annotation', 'No_annotation', 'No_annotation', 'No_annotation', 'No_annotation', 'No_annotation', 'No_annotation', 'No_annotation', 'No_annotation', 'No_annotation', 'No_annotation', 'No_annotation', 'Multiple_pwys', 'No_annotation', 'PWY-7891', 'No_annotation', 'No_annotation', 'PWY-7511-1', 'No_annotation', 'No_annotation', 'No_annotation', 'No_annotation', 'TRNA-CHARGING-PWY', 'No_annotation', 'No_annotation', 'No_annotation', 'No_annotation', 'No_annotation', 'Multiple_pwys', 'No_annotation', 'No_annotation', 'Multiple_pwys', 'PWY-7921', 'No_annotation', 'No_annotation', 'No_annotation', 'No_annotation', 'No_annotation', 'No_annotation', 'No_annotation', 'No_annotation', 'PWY-7511-1', 'No_annotation', 'No_annotation', 'No_annotation', 'No_annotation', 'No_annotation', 'Multiple_pwys', 'No_annotation', 'No_annotation', 'No_annotation', 'No_annotation', 'No_annotation', 'No_annotation', 'PWY-6536', 'No_annotation', 'No_annotation', 'No_annotation', 'No_annotation', 'No_annotation', 'No_annotation', 'No_annotation', 'No_annotation', 'PWY-6773', 'No_annotation', 'No_annotation', 'No_annotation', 'No_annotation', 'No_annotation', 'SPHINGOLIPID-SYN-PWY', 'No_annotation', 'Multiple_pwys', 'No_annotation', 'No_annotation', 'Multiple_pwys', 'No_annotation', 'No_annotation', 'No_annotation', 'No_annotation', 'No_annotation', 'No_annotation', 'No_annotation', 'No_annotation', 'No_annotation', 'No_annotation', 'No_annotation', 'Multiple_pwys', 'Multiple_pwys', 'No_annotation', 'No_annotation', 'No_annotation', 'No_annotation', 'No_annotation', 'No_annotation', 'No_annotation', 'No_annotation', 'No_annotation', 'No_annotation', 'No_annotation', 'No_annotation', 'No_annotation', 'No_annotation', 'No_annotation', 'No_annotation', 'No_annotation', 'No_annotation', 'No_annotation', 'Multiple_pwys', 'Multiple_pwys', 'No_annotation', 'No_annotation', 'No_annotation', 'No_annotation', 'No_annotation', 'No_annotation', 'No_annotation', 'No_annotation', 'No_annotation', 'Multiple_pwys', 'No_annotation', 'No_annotation', 'No_annotation', 'No_annotation', 'No_annotation', 'No_annotation', 'No_annotation', 'No_annotation', 'No_annotation', 'No_annotation', 'No_annotation', 'No_annotation', 'No_annotation', 'No_annotation', 'No_annotation', 'No_annotation', 'No_annotation', 'Multiple_pwys', 'No_annotation', 'No_annotation', 'No_annotation', 'No_annotation', 'No_annotation', 'No_annotation', 'No_annotation', 'PWY-7511-1', 'No_annotation', 'No_annotation', 'No_annotation', 'No_annotation', 'No_annotation', 'No_annotation', 'No_annotation', 'No_annotation', 'No_annotation', 'No_annotation', 'No_annotation', 'No_annotation', 'No_annotation', 'No_annotation', 'No_annotation', 'No_annotation', 'Multiple_pwys', 'Multiple_pwys', 'No_annotation', 'PWY-6825', 'No_annotation', 'No_annotation', 'No_annotation', 'No_annotation', 'No_annotation', 'No_annotation', 'No_annotation', 'No_annotation', 'PWY-5669', 'TRNA-CHARGING-PWY', 'No_annotation', 'No_annotation', 'No_annotation', 'No_annotation', 'No_annotation', 'No_annotation', 'Multiple_pwys', 'No_annotation', 'PWY-3781-1', 'PWY-7511-1', 'TRNA-CHARGING-PWY', 'No_annotation', 'No_annotation', 'No_annotation', 'No_annotation', 'Multiple_pwys', 'No_annotation', 'LARABITOLUTIL-PWY', 'No_annotation', 'No_annotation', 'No_annotation', 'No_annotation', 'No_annotation', 'No_annotation', 'Multiple_pwys', 'No_annotation', 'No_annotation', 'Multiple_pwys', 'No_annotation', 'No_annotation', 'No_annotation', 'Multiple_pwys', 'Multiple_pwys', 'No_annotation', 'No_annotation', 'No_annotation', 'No_annotation', 'No_annotation', 'No_annotation', 'No_annotation', 'No_annotation', 'No_annotation', 'No_annotation', 'No_annotation', 'No_annotation', 'No_annotation', 'PWY-7511-1', 'No_annotation', 'MANNOSYL-CHITO-DOLICHOL-BIOSYNTHESIS', 'No_annotation', 'No_annotation', 'No_annotation', 'No_annotation', 'No_annotation', 'No_annotation', 'No_annotation', 'No_annotation', 'No_annotation', 'Multiple_pwys', 'No_annotation', 'No_annotation', 'No_annotation', 'PWY-5690', 'No_annotation', 'PWY-6689', 'Multiple_pwys', 'No_annotation', 'No_annotation', 'No_annotation', 'No_annotation', 'Multiple_pwys', 'Multiple_pwys', 'No_annotation', 'No_annotation', 'No_annotation', 'No_annotation', 'No_annotation', 'PWY0-1587', 'No_annotation', 'TRNA-CHARGING-PWY', 'No_annotation', 'No_annotation', 'No_annotation', 'No_annotation', 'No_annotation', 'No_annotation', 'No_annotation', 'No_annotation', 'PWY-7851', 'No_annotation', 'No_annotation', 'No_annotation', 'No_annotation', 'No_annotation', 'No_annotation', 'PWY0-1507', 'No_annotation', 'No_annotation', 'No_annotation', 'No_annotation', 'No_annotation', 'No_annotation', 'No_annotation', 'No_annotation', 'SPHINGOLIPID-SYN-PWY', 'No_annotation', 'No_annotation', 'No_annotation', 'No_annotation', 'Multiple_pwys', 'No_annotation', 'No_annotation', 'No_annotation', 'No_annotation', 'No_annotation', 'No_annotation', 'No_annotation', 'No_annotation', 'No_annotation', 'No_annotation', 'No_annotation', 'No_annotation', 'No_annotation', 'No_annotation', 'No_annotation', 'No_annotation', 'No_annotation', 'No_annotation', 'No_annotation', 'No_annotation', 'No_annotation', 'No_annotation', 'No_annotation', 'No_annotation', 'No_annotation', 'No_annotation', 'No_annotation', 'No_annotation', 'No_annotation', 'No_annotation', 'No_annotation', 'No_annotation', 'No_annotation', 'No_annotation', 'No_annotation', 'Multiple_pwys', 'No_annotation', 'TRNA-CHARGING-PWY', 'No_annotation', 'PWY-7800', 'No_annotation', 'No_annotation', 'No_annotation', 'TRNA-CHARGING-PWY', 'TRNA-CHARGING-PWY', 'No_annotation', 'No_annotation', 'No_annotation', 'No_annotation', 'No_annotation', 'No_annotation', 'No_annotation', 'No_annotation', 'No_annotation', 'PROSYN-PWY', 'No_annotation', 'No_annotation', 'No_annotation', 'PROUT-PWY', 'No_annotation', 'No_annotation', 'No_annotation', 'No_annotation', 'No_annotation', 'No_annotation', 'No_annotation', 'PWY-2301', 'No_annotation', 'No_annotation', 'No_annotation', 'No_annotation', 'No_annotation', 'PWY-3781-1', 'No_annotation', 'No_annotation', 'No_annotation', 'No_annotation', 'No_annotation', 'No_annotation', 'No_annotation', 'No_annotation', 'PANTO-PWY', 'No_annotation', 'No_annotation', 'Multiple_pwys', 'PWY-5905', 'No_annotation', 'No_annotation', 'Multiple_pwys', 'PWY-8341', 'No_annotation', 'Multiple_pwys', 'No_annotation', 'No_annotation', 'No_annotation', 'No_annotation', 'No_annotation', 'No_annotation', 'No_annotation', 'No_annotation', 'No_annotation', 'No_annotation', 'No_annotation', 'No_annotation', 'No_annotation', 'PWY-8341', 'No_annotation', 'PWY-4621', 'No_annotation', 'No_annotation', 'No_annotation', 'No_annotation', 'No_annotation', 'No_annotation', 'Multiple_pwys', 'THIOREDOX-PWY', 'No_annotation', 'No_annotation', 'No_annotation', 'No_annotation', 'PWY-7888', 'Multiple_pwys', 'No_annotation', 'No_annotation', 'No_annotation', 'No_annotation', 'No_annotation', 'No_annotation', 'No_annotation', 'No_annotation', 'No_annotation', 'Multiple_pwys', 'No_annotation', 'No_annotation', 'No_annotation', 'Multiple_pwys', 'No_annotation', 'No_annotation', 'No_annotation', 'No_annotation', 'No_annotation', 'No_annotation', 'No_annotation', 'Multiple_pwys', 'No_annotation', 'No_annotation', 'No_annotation', 'No_annotation', 'No_annotation', 'No_annotation', 'PWY-7210', 'No_annotation', 'No_annotation', 'No_annotation', 'No_annotation', 'No_annotation', 'No_annotation', 'No_annotation', 'PWY-7511-1', 'No_annotation', 'No_annotation', 'No_annotation', 'No_annotation', 'No_annotation', 'No_annotation', 'No_annotation', 'No_annotation', 'No_annotation', 'PWY-7511-1', 'No_annotation', 'No_annotation', 'No_annotation', 'No_annotation', 'Multiple_pwys', 'No_annotation', 'No_annotation', 'No_annotation', 'No_annotation', 'No_annotation', 'No_annotation', 'No_annotation', 'No_annotation', 'No_annotation', 'No_annotation', 'No_annotation', 'No_annotation', 'No_annotation', 'Multiple_pwys', 'No_annotation', 'No_annotation', 'No_annotation', 'No_annotation', 'No_annotation', 'No_annotation', 'No_annotation', 'No_annotation', 'No_annotation', 'No_annotation', 'No_annotation', 'No_annotation', 'No_annotation', 'No_annotation', 'No_annotation', 'No_annotation', 'No_annotation', 'No_annotation', 'Multiple_pwys', 'No_annotation', 'No_annotation', 'No_annotation', 'No_annotation', 'Multiple_pwys', 'Multiple_pwys', 'No_annotation', 'No_annotation', 'PWY3O-242', 'No_annotation', 'No_annotation', 'No_annotation', 'No_annotation', 'No_annotation', 'No_annotation', 'No_annotation', 'No_annotation', 'Multiple_pwys', 'No_annotation', 'No_annotation', 'No_annotation', 'No_annotation', 'PWY-7921', 'No_annotation', 'No_annotation', 'No_annotation', 'No_annotation', 'No_annotation', 'No_annotation', 'No_annotation', 'No_annotation', 'No_annotation', 'No_annotation', 'PWY-7511-1', 'No_annotation', 'No_annotation', 'No_annotation', 'No_annotation', 'No_annotation', 'No_annotation', 'No_annotation', 'No_annotation', 'No_annotation', 'No_annotation', 'No_annotation', 'No_annotation', 'No_annotation', 'PWY-7511-1', 'No_annotation', 'No_annotation', 'No_annotation', 'PWY-6129', 'No_annotation', 'No_annotation', 'PWY3O-48', 'No_annotation', 'No_annotation', 'No_annotation', 'No_annotation', 'No_annotation', 'No_annotation', 'Multiple_pwys', 'No_annotation', 'No_annotation', 'No_annotation', 'No_annotation', 'No_annotation', 'No_annotation', 'Multiple_pwys', 'No_annotation', 'No_annotation', 'TRNA-CHARGING-PWY', 'No_annotation', 'No_annotation', 'No_annotation', 'MANNOSYL-CHITO-DOLICHOL-BIOSYNTHESIS', 'No_annotation', 'No_annotation', 'No_annotation', 'No_annotation', 'No_annotation', 'No_annotation', 'No_annotation', 'No_annotation', 'No_annotation', 'No_annotation', 'No_annotation', 'PWY-5941', 'No_annotation', 'No_annotation', 'PWY-7546', 'No_annotation', 'No_annotation', 'PWY66-423', 'No_annotation', 'PWY-3781-1', 'PWY3O-4107', 'No_annotation', 'No_annotation', 'No_annotation', 'No_annotation', 'No_annotation', 'No_annotation', 'No_annotation', 'No_annotation', 'Multiple_pwys', 'Multiple_pwys', 'No_annotation', 'No_annotation', 'No_annotation', 'No_annotation', 'No_annotation', 'No_annotation', 'No_annotation', 'No_annotation', 'No_annotation', 'No_annotation', 'No_annotation', 'No_annotation', 'No_annotation', 'No_annotation', 'No_annotation', 'No_annotation', 'No_annotation', 'PANTO-PWY', 'No_annotation', 'No_annotation', 'No_annotation', 'No_annotation', 'No_annotation', 'No_annotation', 'No_annotation', 'No_annotation', 'Multiple_pwys', 'No_annotation', 'No_annotation', 'No_annotation', 'No_annotation', 'Multiple_pwys', 'No_annotation', 'PWY-621', 'PWY-5026', 'No_annotation', 'No_annotation', 'No_annotation', 'No_annotation', 'No_annotation', 'No_annotation', 'No_annotation', 'No_annotation', 'No_annotation', 'No_annotation', 'No_annotation', 'No_annotation', 'No_annotation', 'No_annotation', 'No_annotation', 'No_annotation', 'No_annotation', 'No_annotation', 'No_annotation', 'No_annotation', 'No_annotation', 'No_annotation', 'No_annotation', 'No_annotation', 'No_annotation', 'No_annotation', 'No_annotation', 'No_annotation', 'No_annotation', 'No_annotation', 'Multiple_pwys', 'No_annotation', 'Multiple_pwys', 'GLYOXYLATE-BYPASS', 'Multiple_pwys', 'No_annotation', 'No_annotation', 'No_annotation', 'Multiple_pwys', 'No_annotation', 'No_annotation', 'No_annotation', 'No_annotation', 'MANNOSYL-CHITO-DOLICHOL-BIOSYNTHESIS', 'No_annotation', 'No_annotation', 'No_annotation', 'No_annotation', 'No_annotation', 'No_annotation', 'No_annotation', 'No_annotation', 'No_annotation', 'No_annotation', 'No_annotation', 'No_annotation', 'No_annotation', 'No_annotation', 'No_annotation', 'No_annotation', 'No_annotation', 'No_annotation', 'No_annotation', 'No_annotation', 'No_annotation', 'No_annotation', 'No_annotation', 'No_annotation', 'No_annotation', 'No_annotation', 'Multiple_pwys', 'Multiple_pwys', 'No_annotation', 'No_annotation', 'No_annotation', 'No_annotation', 'No_annotation', 'No_annotation', 'Multiple_pwys', 'No_annotation', 'No_annotation', 'No_annotation', 'No_annotation', 'No_annotation', 'Multiple_pwys', 'No_annotation', 'No_annotation', 'No_annotation', 'No_annotation', 'No_annotation', 'No_annotation', 'Multiple_pwys', 'No_annotation', 'No_annotation', 'No_annotation', 'No_annotation', 'No_annotation', 'No_annotation', 'No_annotation', 'No_annotation', 'No_annotation', 'No_annotation', 'No_annotation', 'No_annotation', 'No_annotation', 'No_annotation', 'No_annotation', 'No_annotation', 'No_annotation', 'No_annotation', 'No_annotation', 'No_annotation', 'No_annotation', 'PWY-7036', 'No_annotation', 'PWY-6981', 'Multiple_pwys', 'No_annotation', 'No_annotation', 'No_annotation', 'No_annotation', 'No_annotation', 'No_annotation', 'No_annotation', 'No_annotation', 'No_annotation', 'No_annotation', 'No_annotation', 'No_annotation', 'No_annotation', 'Multiple_pwys', 'No_annotation', 'No_annotation', 'No_annotation', 'PWY-6829', 'PWY-5026', 'No_annotation', 'No_annotation', 'No_annotation', 'No_annotation', 'Multiple_pwys', 'No_annotation', 'No_annotation', 'No_annotation', 'No_annotation', 'PWY-7119', 'No_annotation', 'PWY-5067', 'No_annotation', 'MANNOSYL-CHITO-DOLICHOL-BIOSYNTHESIS', 'No_annotation', 'No_annotation', 'No_annotation', 'No_annotation', 'No_annotation', 'No_annotation', 'PWY-7511-1', 'No_annotation', 'PWY-2301', 'No_annotation', 'PWY66-423', 'No_annotation', 'No_annotation', 'No_annotation', 'No_annotation', 'No_annotation', 'No_annotation', 'No_annotation', 'No_annotation', 'PWY-3781-1', 'No_annotation', 'No_annotation', 'No_annotation', 'No_annotation', 'No_annotation', 'No_annotation', 'No_annotation', 'No_annotation', 'No_annotation', 'No_annotation', 'No_annotation', 'PWY-8323', 'PWY0-1587', 'No_annotation', 'PWY-8323', 'No_annotation', 'No_annotation', 'No_annotation', 'No_annotation', 'No_annotation', 'No_annotation', 'No_annotation', 'No_annotation', 'No_annotation', 'No_annotation', 'No_annotation', 'No_annotation', 'No_annotation', 'No_annotation', 'No_annotation', 'No_annotation', 'No_annotation', 'No_annotation', 'No_annotation', 'No_annotation', 'No_annotation', 'No_annotation', 'No_annotation', 'No_annotation', 'No_annotation', 'No_annotation', 'No_annotation', 'No_annotation', 'No_annotation', 'No_annotation', 'No_annotation', 'No_annotation', 'No_annotation', 'No_annotation', 'Multiple_pwys', 'No_annotation', 'Multiple_pwys', 'No_annotation', 'No_annotation', 'No_annotation', 'No_annotation', 'No_annotation', 'No_annotation', 'No_annotation', 'PWY-4361-1', 'Multiple_pwys', 'No_annotation', 'No_annotation', 'No_annotation', 'No_annotation', 'No_annotation', 'No_annotation', 'No_annotation', 'No_annotation', 'No_annotation', 'No_annotation', 'No_annotation', 'No_annotation', 'No_annotation', 'No_annotation', 'No_annotation', 'Multiple_pwys', 'No_annotation', 'No_annotation', 'PWY-7511-1', 'No_annotation', 'No_annotation', 'No_annotation', 'No_annotation', 'Multiple_pwys', 'No_annotation', 'No_annotation', 'PWY-8323', 'No_annotation', 'No_annotation', 'No_annotation', 'No_annotation', 'No_annotation', 'No_annotation', 'PWY-7184', 'PWY-5905', 'PWY-6825', 'No_annotation', 'PWY-8323', 'No_annotation', 'No_annotation', 'Multiple_pwys', 'No_annotation', 'No_annotation', 'No_annotation', 'No_annotation', 'No_annotation', 'No_annotation', 'No_annotation', 'No_annotation', 'No_annotation', 'No_annotation', 'No_annotation', 'No_annotation', 'No_annotation', 'No_annotation', 'No_annotation', 'No_annotation', 'No_annotation', 'No_annotation', 'No_annotation', 'Multiple_pwys', 'PWY-6619', 'No_annotation', 'No_annotation', 'No_annotation', 'No_annotation', 'No_annotation', 'No_annotation', 'No_annotation', 'No_annotation', 'No_annotation', 'No_annotation', 'No_annotation', 'No_annotation', 'No_annotation', 'No_annotation', 'No_annotation', 'No_annotation', 'No_annotation', 'No_annotation', 'No_annotation', 'Multiple_pwys', 'PWY-7918', 'Multiple_pwys', 'No_annotation', 'No_annotation', 'No_annotation', 'Multiple_pwys', 'No_annotation', 'HOMOSERSYN-PWY', 'No_annotation', 'No_annotation', 'PWY-7921', 'No_annotation', 'No_annotation', 'No_annotation', 'Multiple_pwys', 'PWY-723', 'No_annotation', 'No_annotation', 'No_annotation', 'No_annotation', 'No_annotation', 'No_annotation', 'No_annotation', 'PWY-4101', 'No_annotation', 'Multiple_pwys', 'No_annotation', 'No_annotation', 'No_annotation', 'SPHINGOLIPID-SYN-PWY', 'No_annotation', 'PWY-7511-1', 'No_annotation', 'No_annotation', 'No_annotation', 'No_annotation', 'No_annotation', 'No_annotation', 'No_annotation', 'No_annotation', 'No_annotation', 'PWY-7511-1', 'Multiple_pwys', 'No_annotation', 'Multiple_pwys', 'No_annotation', 'No_annotation', 'Multiple_pwys', 'No_annotation', 'No_annotation', 'No_annotation', 'Multiple_pwys', 'No_annotation', 'No_annotation', 'No_annotation', 'No_annotation', 'No_annotation', 'No_annotation', 'No_annotation', 'No_annotation', 'No_annotation', 'No_annotation', 'No_annotation', 'No_annotation', 'No_annotation', 'No_annotation', 'PWY-7388', 'No_annotation', 'No_annotation', 'No_annotation', 'No_annotation', 'No_annotation', 'No_annotation', 'No_annotation', 'Multiple_pwys', 'No_annotation', 'No_annotation', 'No_annotation', 'No_annotation', 'No_annotation', 'No_annotation', 'No_annotation', 'No_annotation', 'No_annotation', 'No_annotation', 'No_annotation', 'No_annotation', 'No_annotation', 'No_annotation', 'Multiple_pwys', 'No_annotation', 'PWY-8145', 'No_annotation', 'No_annotation', 'No_annotation', 'No_annotation', 'Multiple_pwys', 'No_annotation', 'No_annotation', 'No_annotation', 'No_annotation', 'No_annotation', 'No_annotation', 'No_annotation', 'No_annotation', 'Multiple_pwys', 'No_annotation', 'No_annotation', 'Multiple_pwys', 'No_annotation', 'No_annotation', 'No_annotation', 'No_annotation', 'No_annotation', 'No_annotation', 'No_annotation', 'No_annotation', 'No_annotation', 'No_annotation', 'No_annotation', 'No_annotation', 'Multiple_pwys', 'No_annotation', 'No_annotation', 'PWY-2161', 'No_annotation', 'No_annotation', 'No_annotation', 'No_annotation', 'No_annotation', 'Multiple_pwys', 'No_annotation', 'No_annotation', 'No_annotation', 'No_annotation', 'PWY-3781-1', 'No_annotation', 'No_annotation', 'PWY-6938', 'No_annotation', 'No_annotation', 'No_annotation', 'No_annotation', 'No_annotation', 'No_annotation', 'No_annotation', 'No_annotation', 'No_annotation', 'No_annotation', 'No_annotation', 'No_annotation', 'No_annotation', 'No_annotation', 'No_annotation', 'No_annotation', 'No_annotation', 'No_annotation', 'No_annotation', 'No_annotation', 'No_annotation', 'PWY-46', 'No_annotation', 'No_annotation', 'No_annotation', 'No_annotation', 'PWY-7546', 'No_annotation', 'No_annotation', 'No_annotation', 'No_annotation', 'No_annotation', 'No_annotation', 'No_annotation', 'No_annotation', 'No_annotation', 'No_annotation', 'No_annotation', 'PWY-7511-1', 'Multiple_pwys', 'No_annotation', 'No_annotation', 'Multiple_pwys', 'PWY-7790', 'No_annotation', 'No_annotation', 'No_annotation', 'No_annotation', 'No_annotation', 'No_annotation', 'No_annotation', 'No_annotation', 'No_annotation', 'No_annotation', 'No_annotation', 'Multiple_pwys', 'No_annotation', 'No_annotation', 'No_annotation', 'No_annotation', 'No_annotation', 'No_annotation', 'No_annotation', 'No_annotation', 'No_annotation', 'No_annotation', 'No_annotation', 'No_annotation', 'No_annotation', 'PWY-6981', 'No_annotation', 'PWY3O-4107', 'No_annotation', 'No_annotation', 'No_annotation', 'No_annotation', 'PWY0-1587', 'No_annotation', 'No_annotation', 'No_annotation', 'No_annotation', 'No_annotation', 'No_annotation', 'No_annotation', 'No_annotation', 'No_annotation', 'No_annotation', 'PWY-7119', 'No_annotation', 'No_annotation', 'No_annotation', 'No_annotation', 'PWY-5067', 'No_annotation', 'No_annotation', 'MANNOSYL-CHITO-DOLICHOL-BIOSYNTHESIS', 'No_annotation', 'No_annotation', 'No_annotation', 'No_annotation', 'No_annotation', 'Multiple_pwys', 'No_annotation', 'PWY-5194', 'No_annotation', 'PWY-7851', 'No_annotation', 'No_annotation', 'No_annotation', 'No_annotation', 'No_annotation', 'Multiple_pwys', 'No_annotation', 'No_annotation', 'No_annotation', 'No_annotation', 'No_annotation', 'No_annotation', 'No_annotation', 'Multiple_pwys', 'No_annotation', 'No_annotation', 'No_annotation', 'No_annotation', 'No_annotation', 'No_annotation', 'No_annotation', 'No_annotation', 'No_annotation', 'No_annotation', 'No_annotation', 'No_annotation', 'No_annotation', 'No_annotation', 'No_annotation', 'No_annotation', 'No_annotation', 'No_annotation', 'No_annotation', 'No_annotation', 'No_annotation', 'No_annotation', 'No_annotation', 'No_annotation', 'PWY-7424', 'No_annotation', 'No_annotation', 'Multiple_pwys', 'No_annotation', 'No_annotation', 'No_annotation', 'No_annotation', 'No_annotation', 'No_annotation', 'No_annotation', 'No_annotation', 'No_annotation', 'No_annotation', 'No_annotation', 'No_annotation', 'No_annotation', 'No_annotation', 'No_annotation', 'No_annotation', 'No_annotation', 'No_annotation', 'PWY-3781-1', 'No_annotation', 'PWY-4621', 'No_annotation', 'No_annotation', 'Multiple_pwys', 'No_annotation', 'No_annotation', 'No_annotation', 'No_annotation', 'No_annotation', 'No_annotation', 'PWY0-1280', 'No_annotation', 'Multiple_pwys', 'Multiple_pwys', 'No_annotation', 'No_annotation', 'No_annotation', 'No_annotation', 'No_annotation', 'No_annotation', 'No_annotation', 'No_annotation', 'No_annotation', 'No_annotation', 'No_annotation', 'No_annotation', 'No_annotation', 'No_annotation', 'No_annotation', 'No_annotation', 'PWY-6756', 'No_annotation', 'No_annotation', 'PWY-7424', 'No_annotation', 'No_annotation', 'No_annotation', 'PWY-7511-1', 'No_annotation', 'No_annotation', 'Multiple_pwys', 'Multiple_pwys', 'No_annotation', 'No_annotation', 'No_annotation', 'No_annotation', 'No_annotation', 'No_annotation', 'No_annotation', 'No_annotation', 'PWY-3781-1', 'No_annotation', 'No_annotation', 'Multiple_pwys', 'Multiple_pwys', 'No_annotation', 'No_annotation', 'No_annotation', 'No_annotation', 'No_annotation', 'No_annotation', 'No_annotation', 'No_annotation', 'No_annotation', 'No_annotation', 'Multiple_pwys', 'No_annotation', 'Multiple_pwys', 'No_annotation', 'TRNA-CHARGING-PWY', 'No_annotation', 'No_annotation', 'No_annotation', 'No_annotation', 'No_annotation', 'No_annotation', 'No_annotation', 'No_annotation', 'LARABITOLUTIL-PWY', 'No_annotation', 'No_annotation', 'No_annotation', 'No_annotation', 'No_annotation', 'No_annotation', 'No_annotation', 'No_annotation', 'No_annotation', 'No_annotation', 'No_annotation', 'No_annotation', 'No_annotation', 'No_annotation', 'No_annotation', 'Multiple_pwys', 'No_annotation', 'No_annotation', 'No_annotation', 'No_annotation', 'No_annotation', 'No_annotation', 'PWY-7511-1', 'No_annotation', 'Multiple_pwys', 'Multiple_pwys', 'PWY-7511-1', 'No_annotation', 'No_annotation', 'PWY-6689', 'No_annotation', 'No_annotation', 'No_annotation', 'No_annotation', 'No_annotation', 'No_annotation', 'No_annotation', 'No_annotation', 'No_annotation', 'No_annotation', 'No_annotation', 'No_annotation', 'No_annotation', 'No_annotation', 'No_annotation', 'No_annotation', 'PWY-7511-1', 'No_annotation', 'No_annotation', 'No_annotation', 'Multiple_pwys', 'Multiple_pwys', 'No_annotation', 'No_annotation', 'No_annotation', 'No_annotation', 'No_annotation', 'PROUT-PWY', 'PWY-7546', 'No_annotation', 'No_annotation', 'ARGSPECAT-PWY', 'No_annotation', 'No_annotation', 'PWY-6502', 'No_annotation', 'Multiple_pwys', 'No_annotation', 'No_annotation', 'No_annotation', 'No_annotation', 'No_annotation', 'No_annotation', 'ASPARAGINE-DEG1-PWY', 'ASPARAGINE-DEG1-PWY', 'No_annotation', 'No_annotation', 'ASPARAGINE-DEG1-PWY', 'No_annotation', 'No_annotation', 'No_annotation', 'No_annotation', 'No_annotation', 'No_annotation', 'No_annotation', 'PWY-7546', 'No_annotation', 'Multiple_pwys', 'PWY-8341', 'No_annotation', 'No_annotation', 'No_annotation', 'No_annotation', 'Multiple_pwys', 'No_annotation', 'No_annotation', 'PWY-8341', 'No_annotation', 'No_annotation', 'No_annotation', 'No_annotation', 'No_annotation', 'No_annotation', 'No_annotation', 'No_annotation', 'No_annotation', 'No_annotation', 'No_annotation', 'No_annotation', 'No_annotation', 'No_annotation', 'No_annotation', 'No_annotation', 'No_annotation', 'No_annotation', 'No_annotation', 'Multiple_pwys', 'No_annotation', 'Multiple_pwys', 'No_annotation', 'No_annotation', 'No_annotation', 'No_annotation', 'No_annotation', 'No_annotation', 'No_annotation', 'No_annotation', 'No_annotation', 'No_annotation', 'No_annotation', 'No_annotation', 'No_annotation', 'No_annotation', 'Multiple_pwys', 'No_annotation', 'No_annotation', 'No_annotation', 'Multiple_pwys', 'No_annotation', 'No_annotation', 'No_annotation', 'Multiple_pwys', 'No_annotation', 'No_annotation', 'No_annotation', 'No_annotation', 'No_annotation', 'No_annotation', 'No_annotation', 'No_annotation', 'PWY-5067', 'No_annotation', 'PWY-7119', 'No_annotation', 'No_annotation', 'No_annotation', 'No_annotation', 'No_annotation', 'No_annotation', 'No_annotation', 'No_annotation', 'No_annotation', 'No_annotation', 'No_annotation', 'No_annotation', 'No_annotation', 'No_annotation', 'No_annotation', 'No_annotation', 'No_annotation', 'No_annotation', 'No_annotation', 'Multiple_pwys', 'No_annotation', 'No_annotation', 'No_annotation', 'No_annotation', 'No_annotation', 'No_annotation', 'No_annotation', 'No_annotation', 'No_annotation', 'No_annotation', 'No_annotation', 'No_annotation', 'No_annotation', 'No_annotation', 'Multiple_pwys', 'No_annotation', 'No_annotation', 'Multiple_pwys', 'Multiple_pwys', 'Multiple_pwys', 'PWY-7899', 'No_annotation', 'Multiple_pwys', 'No_annotation', 'No_annotation', 'No_annotation', 'No_annotation', 'No_annotation', 'No_annotation', 'No_annotation', 'No_annotation', 'No_annotation', 'No_annotation', 'PWY-7511-1', 'No_annotation', 'No_annotation', 'No_annotation', 'No_annotation', 'No_annotation', 'Multiple_pwys', 'No_annotation', 'PWY-6981', 'No_annotation', 'No_annotation', 'No_annotation', 'No_annotation', 'No_annotation', 'No_annotation', 'PWY-6773', 'No_annotation', 'No_annotation', 'PWY66-423', 'No_annotation', 'No_annotation', 'No_annotation', 'SPHINGOLIPID-SYN-PWY', 'PWY-5026', 'PWY-7511-1', 'No_annotation', 'Multiple_pwys', 'Multiple_pwys', 'No_annotation', 'Multiple_pwys', 'No_annotation', 'No_annotation', 'No_annotation', 'No_annotation', 'Multiple_pwys', 'No_annotation', 'PWY-7511-1', 'No_annotation', 'No_annotation', 'No_annotation', 'No_annotation', 'No_annotation', 'No_annotation', 'No_annotation', 'No_annotation', 'No_annotation', 'No_annotation', 'No_annotation', 'Multiple_pwys', 'No_annotation', 'No_annotation', 'No_annotation', 'No_annotation', 'No_annotation', 'No_annotation', 'No_annotation', 'No_annotation', 'No_annotation', 'No_annotation', 'No_annotation', 'No_annotation', 'No_annotation', 'No_annotation', 'No_annotation', 'No_annotation', 'No_annotation', 'No_annotation', 'No_annotation', 'No_annotation', 'Multiple_pwys', 'No_annotation', 'No_annotation', 'No_annotation', 'No_annotation', 'No_annotation', 'No_annotation', 'No_annotation', 'No_annotation', 'No_annotation', 'PWY-7790', 'No_annotation', 'No_annotation', 'No_annotation', 'No_annotation', 'No_annotation', 'No_annotation', 'No_annotation', 'No_annotation', 'Multiple_pwys', 'No_annotation', 'No_annotation', 'No_annotation', 'No_annotation', 'ARG-PRO-PWY', 'No_annotation', 'No_annotation', 'No_annotation', 'No_annotation', 'No_annotation', 'No_annotation', 'No_annotation', 'No_annotation', 'Multiple_pwys', 'No_annotation', 'No_annotation', 'No_annotation', 'No_annotation', 'No_annotation', 'No_annotation', 'No_annotation', 'No_annotation', 'No_annotation', 'No_annotation', 'No_annotation', 'No_annotation', 'No_annotation', 'No_annotation', 'PWY-5386-1', 'Multiple_pwys', 'No_annotation', 'No_annotation', 'No_annotation', 'Multiple_pwys', 'No_annotation', 'No_annotation', 'Multiple_pwys', 'No_annotation', 'No_annotation', 'No_annotation', 'No_annotation', 'MANNOSYL-CHITO-DOLICHOL-BIOSYNTHESIS', 'No_annotation', 'No_annotation', 'PWY-6610', 'No_annotation', 'No_annotation', 'No_annotation', 'No_annotation', 'No_annotation', 'No_annotation', 'No_annotation', 'No_annotation', 'No_annotation', 'No_annotation', 'PWY0-1587', 'No_annotation', 'No_annotation', 'No_annotation', 'PWY3O-4', 'No_annotation', 'No_annotation', 'No_annotation', 'No_annotation', 'No_annotation', 'No_annotation', 'No_annotation', 'No_annotation', 'No_annotation', 'PWY-5458', 'No_annotation', 'No_annotation', 'No_annotation', 'No_annotation', 'No_annotation', 'Multiple_pwys', 'No_annotation', 'No_annotation', 'No_annotation', 'No_annotation', 'No_annotation', 'No_annotation', 'No_annotation', 'No_annotation', 'No_annotation', 'No_annotation', 'No_annotation', 'No_annotation', 'No_annotation', 'No_annotation', 'Multiple_pwys', 'No_annotation', 'No_annotation', 'No_annotation', 'No_annotation', 'No_annotation', 'No_annotation', 'No_annotation', 'Multiple_pwys', 'PWY3O-6', 'No_annotation', 'PWY-7511-1', 'No_annotation', 'No_annotation', 'No_annotation', 'No_annotation', 'No_annotation', 'No_annotation', 'No_annotation', 'No_annotation', 'No_annotation', 'No_annotation', 'No_annotation', 'No_annotation', 'No_annotation', 'No_annotation', 'No_annotation', 'PWY-7790', 'No_annotation', 'No_annotation', 'No_annotation', 'Multiple_pwys', 'PWY-7511-1', 'No_annotation', 'No_annotation', 'No_annotation', 'PWY-8323', 'No_annotation', 'No_annotation', 'No_annotation', 'No_annotation', 'Multiple_pwys', 'No_annotation', 'No_annotation', 'No_annotation', 'No_annotation', 'Multiple_pwys', 'No_annotation', 'No_annotation', 'No_annotation', 'No_annotation', 'No_annotation', 'No_annotation', 'No_annotation', 'No_annotation', 'No_annotation', 'No_annotation', 'PWY-7409', 'PWY-7409', 'PWY-4361-1', 'No_annotation', 'PWY-6129', 'No_annotation', 'Multiple_pwys', 'No_annotation', 'No_annotation', 'No_annotation', 'No_annotation', 'PWY-5760', 'No_annotation', 'PWY-7511-1', 'PWY-7891', 'No_annotation', 'No_annotation', 'No_annotation', 'No_annotation', 'No_annotation', 'No_annotation', 'No_annotation', 'No_annotation', 'No_annotation', 'No_annotation', 'No_annotation', 'No_annotation', 'No_annotation', 'No_annotation', 'PWY3O-6', 'No_annotation', 'No_annotation', 'No_annotation', 'No_annotation', 'No_annotation', 'No_annotation', 'No_annotation', 'No_annotation', 'No_annotation', 'No_annotation', 'PWY-6689', 'No_annotation', 'No_annotation', 'No_annotation', 'No_annotation', 'No_annotation', 'No_annotation', 'No_annotation', 'No_annotation', 'No_annotation', 'No_annotation', 'No_annotation', 'No_annotation', 'No_annotation', 'No_annotation', 'No_annotation', 'No_annotation', 'No_annotation', 'No_annotation', 'No_annotation', 'No_annotation', 'No_annotation', 'Multiple_pwys', 'Multiple_pwys', 'No_annotation', 'No_annotation', 'No_annotation', 'No_annotation', 'No_annotation', 'No_annotation', 'No_annotation', 'Multiple_pwys', 'Multiple_pwys', 'No_annotation', 'No_annotation', 'No_annotation', 'No_annotation', 'PWY-6129', 'No_annotation', 'No_annotation', 'Multiple_pwys', 'No_annotation', 'No_annotation', 'Multiple_pwys', 'No_annotation', 'No_annotation', 'No_annotation', 'No_annotation', 'No_annotation', 'No_annotation', 'No_annotation', 'No_annotation', 'Multiple_pwys', 'No_annotation', 'No_annotation', 'No_annotation', 'No_annotation', 'No_annotation', 'No_annotation', 'No_annotation', 'No_annotation', 'No_annotation', 'No_annotation', 'No_annotation', 'No_annotation', 'No_annotation', 'No_annotation', 'No_annotation', 'No_annotation', 'No_annotation', 'No_annotation', 'No_annotation', 'No_annotation', 'PWY-7269-YEAST', 'No_annotation', 'No_annotation', 'No_annotation', 'MANNOSYL-CHITO-DOLICHOL-BIOSYNTHESIS', 'No_annotation', 'No_annotation', 'No_annotation', 'No_annotation', 'No_annotation', 'No_annotation', 'No_annotation', 'No_annotation', 'No_annotation', 'No_annotation', 'No_annotation', 'No_annotation', 'No_annotation', 'No_annotation', 'TRIGLSYN-PWY', 'No_annotation', 'No_annotation', 'No_annotation', 'Multiple_pwys', 'Multiple_pwys', 'No_annotation', 'No_annotation', 'No_annotation', 'No_annotation', 'No_annotation', 'No_annotation', 'No_annotation', 'No_annotation', 'No_annotation', 'No_annotation', 'No_annotation', 'No_annotation', 'No_annotation', 'No_annotation', 'No_annotation', 'No_annotation', 'Multiple_pwys', 'No_annotation', 'No_annotation', 'No_annotation', 'No_annotation', 'No_annotation', 'No_annotation', 'No_annotation', 'No_annotation', 'No_annotation', 'No_annotation', 'No_annotation', 'No_annotation', 'No_annotation', 'No_annotation', 'No_annotation', 'Multiple_pwys', 'Multiple_pwys', 'No_annotation', 'PWY-7420', 'No_annotation', 'No_annotation', 'No_annotation', 'No_annotation', 'No_annotation', 'No_annotation', 'No_annotation', 'Multiple_pwys', 'No_annotation', 'No_annotation', 'No_annotation', 'No_annotation', 'No_annotation', 'No_annotation', 'No_annotation', 'No_annotation', 'No_annotation', 'No_annotation', 'No_annotation', 'No_annotation', 'No_annotation', 'No_annotation', 'No_annotation', 'No_annotation', 'PWY-6981', 'No_annotation', 'No_annotation', 'No_annotation', 'No_annotation', 'No_annotation', 'No_annotation', 'No_annotation', 'No_annotation', 'No_annotation', 'Multiple_pwys', 'PWY-7511-1', 'No_annotation', 'PWY0-1305', 'No_annotation', 'No_annotation', 'No_annotation', 'No_annotation', 'PWY-3781-1', 'No_annotation', 'No_annotation', 'No_annotation', 'No_annotation', 'No_annotation', 'No_annotation', 'PWY-7511-1', 'No_annotation', 'No_annotation', 'No_annotation', 'No_annotation', 'No_annotation', 'PWY-7790', 'SPHINGOLIPID-SYN-PWY', 'No_annotation', 'No_annotation', 'No_annotation', 'PWY-7511-1', 'No_annotation', 'No_annotation', 'PWY0-1296', 'No_annotation', 'No_annotation', 'No_annotation', 'No_annotation', 'No_annotation', 'No_annotation', 'Multiple_pwys', 'No_annotation', 'No_annotation', 'No_annotation', 'Multiple_pwys', 'No_annotation', 'No_annotation', 'SPHINGOLIPID-SYN-PWY', 'SPHINGOLIPID-SYN-PWY', 'No_annotation', 'Multiple_pwys', 'No_annotation', 'No_annotation', 'Multiple_pwys', 'No_annotation', 'No_annotation', 'PWY-6773', 'No_annotation', 'No_annotation', 'No_annotation', 'No_annotation', 'No_annotation', 'No_annotation', 'Multiple_pwys', 'No_annotation', 'No_annotation', 'No_annotation', 'No_annotation', 'PWY-5516', 'No_annotation', 'No_annotation', 'No_annotation', 'No_annotation', 'No_annotation', 'No_annotation', 'No_annotation', 'No_annotation', 'No_annotation', 'No_annotation', 'No_annotation', 'No_annotation', 'No_annotation', 'No_annotation', 'No_annotation', 'No_annotation', 'No_annotation', 'No_annotation', 'No_annotation', 'No_annotation', 'No_annotation', 'No_annotation', 'No_annotation', 'No_annotation', 'No_annotation', 'No_annotation', 'MANNOSYL-CHITO-DOLICHOL-BIOSYNTHESIS', 'No_annotation', 'No_annotation', 'No_annotation', 'No_annotation', 'No_annotation', 'No_annotation', 'No_annotation', 'PWY-5690', 'No_annotation', 'No_annotation', 'TRNA-CHARGING-PWY', 'No_annotation', 'No_annotation', 'No_annotation', 'No_annotation', 'No_annotation', 'No_annotation', 'No_annotation', 'MANNOSYL-CHITO-DOLICHOL-BIOSYNTHESIS', 'No_annotation', 'No_annotation', 'No_annotation', 'No_annotation', 'Multiple_pwys', 'No_annotation', 'No_annotation', 'No_annotation', 'No_annotation', 'PWY-6829', 'No_annotation', 'No_annotation', 'No_annotation', 'No_annotation', 'No_annotation', 'No_annotation', 'No_annotation', 'No_annotation', 'PYRUVDEHYD-PWY', 'No_annotation', 'No_annotation', 'No_annotation', 'No_annotation', 'No_annotation', 'No_annotation', 'No_annotation', 'No_annotation', 'No_annotation', 'No_annotation', 'No_annotation', 'No_annotation', 'No_annotation', 'No_annotation', 'No_annotation', 'No_annotation', 'No_annotation', 'No_annotation', 'TRIGLSYN-PWY', 'No_annotation', 'No_annotation', 'No_annotation', 'No_annotation', 'No_annotation', 'No_annotation', 'No_annotation', 'No_annotation', 'No_annotation', 'Multiple_pwys', 'Multiple_pwys', 'No_annotation', 'No_annotation', 'No_annotation', 'No_annotation', 'No_annotation', 'No_annotation', 'No_annotation', 'No_annotation', 'No_annotation', 'No_annotation', 'No_annotation', 'No_annotation', 'No_annotation', 'No_annotation', 'No_annotation', 'No_annotation', 'Multiple_pwys', 'Multiple_pwys', 'No_annotation', 'No_annotation', 'PWY-7910', 'No_annotation', 'No_annotation', 'No_annotation', 'No_annotation', 'No_annotation', 'No_annotation', 'No_annotation', 'No_annotation', 'No_annotation', 'No_annotation', 'No_annotation', 'No_annotation', 'No_annotation', 'No_annotation', 'No_annotation', 'No_annotation', 'No_annotation', 'No_annotation', 'No_annotation', 'No_annotation', 'No_annotation', 'No_annotation', 'No_annotation', 'No_annotation', 'No_annotation', 'No_annotation', 'No_annotation', 'No_annotation', 'PWY-5669', 'PWY-7511-1', 'No_annotation', 'No_annotation', 'No_annotation', 'No_annotation', 'No_annotation', 'No_annotation', 'No_annotation', 'No_annotation', 'No_annotation', 'No_annotation', 'No_annotation', 'No_annotation', 'PWY-7559', 'No_annotation', 'No_annotation', 'No_annotation', 'No_annotation', 'No_annotation', 'No_annotation', 'PWY-6938', 'No_annotation', 'Multiple_pwys', 'No_annotation', 'No_annotation', 'No_annotation', 'No_annotation', 'No_annotation', 'No_annotation', 'No_annotation', 'No_annotation', 'No_annotation', 'No_annotation', 'No_annotation', 'No_annotation', 'No_annotation', 'No_annotation', 'MANNOSYL-CHITO-DOLICHOL-BIOSYNTHESIS', 'Multiple_pwys', 'No_annotation', 'No_annotation', 'No_annotation', 'No_annotation', 'No_annotation', 'Multiple_pwys', 'PWY-7511-1', 'No_annotation', 'No_annotation', 'No_annotation', 'No_annotation', 'No_annotation', 'No_annotation', 'No_annotation', 'No_annotation', 'No_annotation', 'Multiple_pwys', 'No_annotation', 'No_annotation', 'No_annotation', 'TRNA-CHARGING-PWY', 'No_annotation', 'No_annotation', 'No_annotation', 'No_annotation', 'No_annotation', 'No_annotation', 'No_annotation', 'No_annotation', 'No_annotation', 'No_annotation', 'PWY-7511-1', 'No_annotation', 'No_annotation', 'No_annotation', 'Multiple_pwys', 'No_annotation', 'No_annotation', 'No_annotation', 'No_annotation', 'No_annotation', 'No_annotation', 'No_annotation', 'Multiple_pwys', 'No_annotation', 'No_annotation', 'No_annotation', 'Multiple_pwys', 'No_annotation', 'No_annotation', 'No_annotation', 'No_annotation', 'No_annotation', 'No_annotation', 'No_annotation', 'No_annotation', 'No_annotation', 'No_annotation', 'No_annotation', 'No_annotation', 'No_annotation', 'No_annotation', 'No_annotation', 'No_annotation', 'No_annotation', 'No_annotation', 'No_annotation', 'No_annotation', 'No_annotation', 'No_annotation', 'No_annotation', 'No_annotation', 'No_annotation', 'No_annotation', 'No_annotation', 'No_annotation', 'Multiple_pwys', 'No_annotation', 'No_annotation', 'No_annotation', 'No_annotation', 'No_annotation', 'Multiple_pwys', 'No_annotation', 'No_annotation', 'No_annotation', 'No_annotation', 'No_annotation', 'No_annotation', 'Multiple_pwys', 'Multiple_pwys', 'No_annotation', 'PWY-5690', 'No_annotation', 'No_annotation', 'No_annotation', 'No_annotation', 'No_annotation', 'Multiple_pwys', 'No_annotation', 'No_annotation', 'No_annotation', 'Multiple_pwys', 'No_annotation', 'No_annotation', 'Multiple_pwys', 'No_annotation', 'No_annotation', 'PWY-7424', 'No_annotation', 'No_annotation', 'No_annotation', 'No_annotation', 'No_annotation', 'No_annotation', 'Multiple_pwys', 'No_annotation', 'No_annotation', 'MANNOSYL-CHITO-DOLICHOL-BIOSYNTHESIS', 'No_annotation', 'No_annotation', 'No_annotation', 'Multiple_pwys', 'No_annotation', 'No_annotation', 'No_annotation', 'No_annotation', 'No_annotation', 'No_annotation', 'No_annotation', 'No_annotation', 'Multiple_pwys', 'Multiple_pwys', 'No_annotation', 'No_annotation', 'Multiple_pwys', 'No_annotation', 'No_annotation', 'No_annotation', 'No_annotation', 'No_annotation', 'No_annotation', 'No_annotation', 'No_annotation', 'PWY0-1507', 'PWY0-1507', 'No_annotation', 'No_annotation', 'No_annotation', 'No_annotation', 'No_annotation', 'No_annotation', 'No_annotation', 'No_annotation', 'No_annotation', 'No_annotation', 'No_annotation', 'No_annotation', 'No_annotation', 'No_annotation', 'No_annotation', 'No_annotation', 'No_annotation', 'No_annotation', 'No_annotation', 'No_annotation', 'No_annotation', 'No_annotation', 'No_annotation', 'No_annotation', 'No_annotation', 'PWY-7409', 'No_annotation', 'No_annotation', 'No_annotation', 'No_annotation', 'No_annotation', 'No_annotation', 'No_annotation', 'No_annotation', 'No_annotation', 'No_annotation', 'No_annotation', 'No_annotation', 'No_annotation', 'No_annotation', 'No_annotation', 'No_annotation', 'No_annotation', 'No_annotation', 'No_annotation', 'No_annotation', 'No_annotation', 'No_annotation', 'No_annotation', 'No_annotation', 'No_annotation', 'No_annotation', 'No_annotation', 'No_annotation', 'No_annotation', 'No_annotation', 'No_annotation', 'No_annotation', 'No_annotation', 'Multiple_pwys', 'No_annotation', 'Multiple_pwys', 'No_annotation', 'No_annotation', 'PWY-7511-1', 'Multiple_pwys', 'No_annotation', 'No_annotation', 'Multiple_pwys', 'No_annotation', 'PWY0-662', 'No_annotation', 'No_annotation', 'No_annotation', 'Multiple_pwys', 'PWY-6168', 'No_annotation', 'PWY3O-4107', 'No_annotation', 'No_annotation', 'No_annotation', 'No_annotation', 'No_annotation', 'PWY-7800', 'No_annotation', 'No_annotation', 'No_annotation', 'No_annotation', 'No_annotation', 'No_annotation', 'No_annotation', 'No_annotation', 'No_annotation', 'No_annotation', 'No_annotation', 'No_annotation', 'No_annotation', 'No_annotation', 'No_annotation', 'No_annotation', 'No_annotation', 'TRNA-CHARGING-PWY', 'No_annotation', 'No_annotation', 'No_annotation', 'PWY-6689', 'No_annotation', 'No_annotation', 'No_annotation', 'No_annotation', 'No_annotation', 'No_annotation', 'No_annotation', 'No_annotation', 'No_annotation', 'No_annotation', 'No_annotation', 'No_annotation', 'No_annotation', 'No_annotation', 'No_annotation', 'No_annotation', 'PWY-6829', 'PWY-6829', 'Multiple_pwys', 'No_annotation', 'No_annotation', 'No_annotation', 'No_annotation', 'PWY66-423', 'No_annotation', 'No_annotation', 'No_annotation', 'No_annotation', 'No_annotation', 'No_annotation', 'No_annotation', 'Multiple_pwys', 'No_annotation', 'No_annotation', 'No_annotation', 'No_annotation', 'No_annotation', 'No_annotation', 'No_annotation', 'No_annotation', 'No_annotation', 'No_annotation', 'No_annotation', 'No_annotation', 'No_annotation', 'No_annotation', 'No_annotation', 'No_annotation', 'MANNOSYL-CHITO-DOLICHOL-BIOSYNTHESIS', 'No_annotation', 'No_annotation', 'No_annotation', 'PWY-8341', 'No_annotation', 'No_annotation', 'No_annotation', 'No_annotation', 'No_annotation', 'No_annotation', 'No_annotation', 'No_annotation', 'No_annotation', 'No_annotation', 'No_annotation', 'No_annotation', 'No_annotation', 'No_annotation', 'No_annotation', 'No_annotation', 'No_annotation', 'No_annotation', 'PWY3O-4107', 'No_annotation', 'No_annotation', 'No_annotation', 'No_annotation', 'No_annotation', 'No_annotation', 'No_annotation', 'No_annotation', 'No_annotation', 'No_annotation', 'No_annotation', 'No_annotation', 'No_annotation', 'No_annotation', 'No_annotation', 'PWY-5386-1', 'No_annotation', 'No_annotation', 'No_annotation', 'No_annotation', 'No_annotation', 'No_annotation', 'No_annotation', 'No_annotation', 'No_annotation', 'PWY-7851', 'No_annotation', 'No_annotation', 'No_annotation', 'No_annotation', 'No_annotation', 'No_annotation', 'No_annotation', 'PWY-3781-1', 'No_annotation', 'MANNOSYL-CHITO-DOLICHOL-BIOSYNTHESIS', 'No_annotation', 'No_annotation', 'No_annotation', 'No_annotation', 'No_annotation', 'No_annotation', 'No_annotation', 'No_annotation', 'No_annotation', 'PWY-7511-1', 'Multiple_pwys', 'No_annotation', 'Multiple_pwys', 'MANNOSYL-CHITO-DOLICHOL-BIOSYNTHESIS', 'No_annotation', 'No_annotation', 'No_annotation', 'No_annotation', 'No_annotation', 'No_annotation', 'No_annotation', 'No_annotation', 'Multiple_pwys', 'No_annotation', 'No_annotation', 'PWY-7921', 'No_annotation', 'No_annotation', 'MANNOSYL-CHITO-DOLICHOL-BIOSYNTHESIS', 'No_annotation', 'No_annotation', 'No_annotation', 'Multiple_pwys', 'No_annotation', 'No_annotation', 'No_annotation', 'No_annotation', 'No_annotation', 'No_annotation', 'No_annotation', 'No_annotation', 'No_annotation', 'No_annotation', 'No_annotation', 'No_annotation', 'No_annotation', 'Multiple_pwys', 'No_annotation', 'No_annotation', 'Multiple_pwys', 'No_annotation', 'No_annotation', 'No_annotation', 'No_annotation', 'No_annotation', 'PWY-5690', 'No_annotation', 'No_annotation', 'No_annotation', 'PWY-5690', 'Multiple_pwys', 'No_annotation', 'No_annotation', 'No_annotation', 'No_annotation', 'No_annotation', 'No_annotation', 'No_annotation', 'Multiple_pwys', 'No_annotation', 'No_annotation', 'No_annotation', 'No_annotation', 'No_annotation', 'No_annotation', 'No_annotation', 'No_annotation', 'No_annotation', 'No_annotation', 'TRNA-CHARGING-PWY', 'PWY-7119', 'No_annotation', 'No_annotation', 'No_annotation', 'No_annotation', 'No_annotation', 'No_annotation', 'Multiple_pwys', 'No_annotation', 'No_annotation', 'No_annotation', 'Multiple_pwys', 'No_annotation', 'No_annotation', 'No_annotation', 'No_annotation', 'No_annotation', 'No_annotation', 'No_annotation', 'No_annotation', 'No_annotation', 'No_annotation', 'No_annotation', 'No_annotation', 'No_annotation', 'No_annotation', 'No_annotation', 'PWY3O-4107', 'No_annotation', 'No_annotation', 'No_annotation', 'No_annotation', 'No_annotation', 'No_annotation', 'No_annotation', 'No_annotation', 'PWY66-429', 'No_annotation', 'No_annotation', 'PWY-7250', 'No_annotation', 'No_annotation', 'No_annotation', 'No_annotation', 'No_annotation', 'No_annotation', 'No_annotation', 'No_annotation', 'Multiple_pwys', 'No_annotation', 'PWY-2161', 'No_annotation', 'No_annotation', 'No_annotation', 'Multiple_pwys', 'No_annotation', 'No_annotation', 'PWY-7511-1', 'No_annotation', 'Multiple_pwys', 'No_annotation', 'PWY-7800', 'No_annotation', 'No_annotation', 'No_annotation', 'No_annotation', 'No_annotation', 'No_annotation', 'No_annotation', 'No_annotation', 'No_annotation', 'No_annotation', 'No_annotation', 'No_annotation', 'No_annotation', 'No_annotation', 'No_annotation', 'No_annotation', 'No_annotation', 'Multiple_pwys', 'PWY3O-4107', 'No_annotation', 'No_annotation', 'No_annotation', 'PWY-5277', 'No_annotation', 'No_annotation', 'No_annotation', 'No_annotation', 'No_annotation', 'No_annotation', 'No_annotation', 'No_annotation', 'No_annotation', 'No_annotation', 'No_annotation', 'PWY-6981', 'No_annotation', 'No_annotation', 'No_annotation', 'No_annotation', 'No_annotation', 'No_annotation', 'No_annotation', 'No_annotation', 'TRIGLSYN-PWY', 'No_annotation', 'No_annotation', 'No_annotation', 'No_annotation', 'Multiple_pwys', 'No_annotation', 'No_annotation', 'PWY-7921', 'No_annotation', 'No_annotation', 'No_annotation', 'No_annotation', 'No_annotation', 'No_annotation', 'No_annotation', 'TRNA-CHARGING-PWY', 'No_annotation', 'No_annotation', 'No_annotation', 'PWY-7511-1', 'No_annotation', 'No_annotation', 'No_annotation', 'No_annotation', 'Multiple_pwys', 'No_annotation', 'No_annotation', 'No_annotation', 'No_annotation', 'No_annotation', 'No_annotation', 'No_annotation', 'No_annotation', 'No_annotation', 'No_annotation', 'No_annotation', 'No_annotation', 'No_annotation', 'No_annotation', 'No_annotation', 'No_annotation', 'No_annotation', 'No_annotation', 'No_annotation', 'No_annotation', 'Multiple_pwys', 'No_annotation', 'No_annotation', 'No_annotation', 'No_annotation', 'No_annotation', 'No_annotation', 'No_annotation', 'No_annotation', 'No_annotation', 'No_annotation', 'Multiple_pwys', 'No_annotation', 'No_annotation', 'No_annotation', 'Multiple_pwys', 'No_annotation', 'No_annotation', 'No_annotation', 'PWY-7899', 'No_annotation', 'No_annotation', 'No_annotation', 'No_annotation', 'No_annotation', 'No_annotation', 'No_annotation', 'No_annotation', 'No_annotation', 'No_annotation', 'No_annotation', 'PWY3O-4107', 'No_annotation', 'No_annotation', 'No_annotation', 'No_annotation', 'No_annotation', 'No_annotation', 'No_annotation', 'Multiple_pwys', 'No_annotation', 'No_annotation', 'No_annotation', 'Multiple_pwys', 'No_annotation', 'PWY-6829', 'No_annotation', 'No_annotation', 'No_annotation', 'No_annotation', 'No_annotation', 'No_annotation', 'No_annotation', 'No_annotation', 'No_annotation', 'TRNA-CHARGING-PWY', 'No_annotation', 'No_annotation', 'No_annotation', 'PWY-7511-1', 'No_annotation', 'No_annotation', 'No_annotation', 'No_annotation', 'No_annotation', 'PWY-8323', 'No_annotation', 'No_annotation', 'No_annotation', 'SPHINGOLIPID-SYN-PWY', 'No_annotation', 'No_annotation', 'No_annotation', 'Multiple_pwys', 'No_annotation', 'No_annotation', 'No_annotation', 'No_annotation', 'No_annotation', 'No_annotation', 'Multiple_pwys', 'No_annotation', 'No_annotation', 'No_annotation', 'No_annotation', 'No_annotation', 'No_annotation', 'No_annotation', 'No_annotation', 'No_annotation', 'PWY-6689', 'No_annotation', 'No_annotation', 'No_annotation', 'PWY-7119', 'No_annotation', 'No_annotation', 'No_annotation', 'No_annotation', 'No_annotation', 'No_annotation', 'No_annotation', 'No_annotation', 'No_annotation', 'TRNA-CHARGING-PWY', 'No_annotation', 'No_annotation', 'No_annotation', 'No_annotation', 'No_annotation', 'TRNA-CHARGING-PWY', 'No_annotation', 'No_annotation', 'No_annotation', 'No_annotation', 'No_annotation', 'Multiple_pwys', 'Multiple_pwys', 'No_annotation', 'No_annotation', 'No_annotation', 'No_annotation', 'Multiple_pwys', 'No_annotation', 'No_annotation', 'No_annotation', 'Multiple_pwys', 'No_annotation', 'No_annotation', 'No_annotation', 'No_annotation', 'No_annotation', 'No_annotation', 'No_annotation', 'No_annotation', 'No_annotation', 'No_annotation', 'No_annotation', 'No_annotation', 'No_annotation', 'Multiple_pwys', 'No_annotation', 'No_annotation', 'No_annotation', 'No_annotation', 'No_annotation', 'No_annotation', 'No_annotation', 'No_annotation', 'No_annotation', 'PWY-6012-1', 'No_annotation', 'No_annotation', 'No_annotation', 'No_annotation', 'No_annotation', 'No_annotation', 'No_annotation', 'No_annotation', 'No_annotation', 'No_annotation', 'No_annotation', 'TRNA-CHARGING-PWY', 'No_annotation', 'No_annotation', 'No_annotation', 'No_annotation', 'No_annotation', 'No_annotation', 'No_annotation', 'No_annotation', 'No_annotation', 'No_annotation', 'No_annotation', 'PWY-7856', 'No_annotation', 'No_annotation', 'No_annotation', 'No_annotation', 'No_annotation', 'No_annotation', 'No_annotation', 'No_annotation', 'No_annotation', 'No_annotation', 'No_annotation', 'No_annotation', 'No_annotation', 'No_annotation', 'No_annotation', 'No_annotation', 'No_annotation', 'No_annotation', 'No_annotation', 'No_annotation', 'No_annotation', 'No_annotation', 'Multiple_pwys', 'Multiple_pwys', 'No_annotation', 'No_annotation', 'No_annotation', 'No_annotation', 'No_annotation', 'No_annotation', 'Multiple_pwys', 'No_annotation', 'No_annotation', 'No_annotation', 'No_annotation', 'No_annotation', 'No_annotation', 'No_annotation', 'No_annotation', 'No_annotation', 'No_annotation', 'Multiple_pwys', 'PWY-7375', 'No_annotation', 'No_annotation', 'PWY-5966-1', 'No_annotation', 'No_annotation', 'No_annotation', 'No_annotation', 'No_annotation', 'No_annotation', 'No_annotation', 'No_annotation', 'No_annotation', 'No_annotation', 'No_annotation', 'No_annotation', 'No_annotation', 'No_annotation', 'No_annotation', 'No_annotation', 'No_annotation', 'No_annotation', 'No_annotation', 'No_annotation', 'Multiple_pwys', 'No_annotation', 'No_annotation', 'PWY-5690', 'No_annotation', 'No_annotation', 'No_annotation', 'No_annotation', 'No_annotation', 'No_annotation', 'No_annotation', 'No_annotation', 'No_annotation', 'No_annotation', 'No_annotation', 'No_annotation', 'No_annotation', 'No_annotation', 'No_annotation', 'No_annotation', 'PWY-5690', 'No_annotation', 'No_annotation', 'No_annotation', 'No_annotation', 'No_annotation', 'No_annotation', 'No_annotation', 'No_annotation', 'No_annotation', 'No_annotation', 'No_annotation', 'No_annotation', 'No_annotation', 'No_annotation', 'No_annotation', 'No_annotation', 'No_annotation', 'No_annotation', 'No_annotation', 'PWY0-1466', 'No_annotation', 'No_annotation', 'No_annotation', 'No_annotation', 'No_annotation', 'No_annotation', 'TRNA-CHARGING-PWY', 'Multiple_pwys', 'No_annotation', 'No_annotation', 'No_annotation', 'No_annotation', 'No_annotation', 'No_annotation', 'TRNA-CHARGING-PWY', 'No_annotation', 'No_annotation', 'PWY-7800', 'No_annotation', 'No_annotation', 'No_annotation', 'No_annotation', 'Multiple_pwys', 'No_annotation', 'Multiple_pwys', 'No_annotation', 'No_annotation', 'PWY-7899', 'No_annotation', 'BSUBPOLYAMSYN-PWY', 'No_annotation', 'No_annotation', 'No_annotation', 'Multiple_pwys', 'No_annotation', 'No_annotation', 'No_annotation', 'No_annotation', 'TRNA-CHARGING-PWY', 'No_annotation', 'No_annotation', 'No_annotation', 'No_annotation', 'No_annotation', 'No_annotation', 'No_annotation', 'No_annotation', 'No_annotation', 'No_annotation', 'No_annotation', 'No_annotation', 'No_annotation', 'No_annotation', 'No_annotation', 'No_annotation', 'No_annotation', 'No_annotation', 'No_annotation', 'No_annotation', 'No_annotation', 'No_annotation', 'No_annotation', 'No_annotation', 'No_annotation', 'PWY-4361-1', 'No_annotation', 'No_annotation', 'Multiple_pwys', 'No_annotation', 'No_annotation', 'No_annotation', 'No_annotation', 'PWY-7800', 'No_annotation', 'No_annotation', 'No_annotation', 'PWY-7511-1', 'No_annotation', 'No_annotation', 'No_annotation', 'Multiple_pwys', 'No_annotation', 'No_annotation', 'No_annotation', 'No_annotation', 'No_annotation', 'No_annotation', 'No_annotation', 'No_annotation', 'No_annotation', 'PWY-5941', 'No_annotation', 'No_annotation', 'Multiple_pwys', 'PWY-6773', 'Multiple_pwys', 'No_annotation', 'No_annotation', 'No_annotation', 'No_annotation', 'No_annotation', 'No_annotation', 'No_annotation', 'No_annotation', 'No_annotation', 'PWY-7511-1', 'No_annotation', 'No_annotation', 'Multiple_pwys', 'PWY-5941', 'No_annotation', 'No_annotation', 'No_annotation', 'No_annotation', 'No_annotation', 'PWY-3781-1', 'No_annotation', 'No_annotation', 'No_annotation', 'No_annotation', 'Multiple_pwys', 'Multiple_pwys', 'No_annotation']\n"
     ]
    }
   ],
   "source": [
    "# assign pathway labels to each gene\n",
    "# Note: some genes have multiple pathways. what to do?\n",
    "map = pd.read_csv(f\"{proj_dir}/Data/Costanzo_2016/S288C_pathways.csv\", index_col=0)\n",
    "pwys_array = []\n",
    "for gene in global_genes:\n",
    "    if gene in map.index:\n",
    "        if map.loc[gene].shape[0] > 1:\n",
    "            pwys_array.append(\"Multiple_pwys\")\n",
    "        else:\n",
    "            pwys_array.append(map.loc[gene].values[0]) # only the first pathway annotation\n",
    "    else:\n",
    "        pwys_array.append(\"No_annotation\")\n",
    "print(len(pwys_array)) # 4922 (matches row number of global_embeddings)\n",
    "print(pwys_array)"
   ]
  },
  {
   "cell_type": "code",
   "execution_count": 11,
   "metadata": {},
   "outputs": [
    {
     "name": "stdout",
     "output_type": "stream",
     "text": [
      "{'PWY-5760': 0, 'PWY3O-123': 1, 'PWY-5516': 2, 'MANNOSYL-CHITO-DOLICHOL-BIOSYNTHESIS': 3, 'Multiple_pwys': 4, 'PYRUVDEHYD-PWY': 5, 'ARG-PRO-PWY': 6, 'PWY-6610': 7, 'PWY-7918': 8, 'SPHINGOLIPID-SYN-PWY': 9, 'PWY-6773': 10, 'PWY-7250': 11, 'PWY-6012-1': 12, 'GLUTAMATE-DEG1-PWY': 13, 'PWY-5386-1': 14, 'TRNA-CHARGING-PWY': 15, 'PWY-6168': 16, 'GLUCONSUPER-PWY': 17, 'PWY-6756': 18, 'PWY-7036': 19, 'PWY0-1535': 20, 'PWY-2301': 21, 'PWY-6689': 22, 'PWY0-1507': 23, 'PWY-5026': 24, 'LYSINE-AMINOAD-PWY': 25, 'PWY-6829': 26, 'PWY-6825': 27, 'PWY-6842-1': 28, 'PWY3O-4': 29, 'THIOREDOX-PWY': 30, 'PWY-4361-1': 31, 'PWY-7888': 32, 'PWY-46': 33, 'PWY66-429': 34, 'PWY-5277': 35, 'PWY-6981': 36, 'PWY-7282': 37, 'PWY-7424': 38, 'PROUT-PWY': 39, 'HEXPPSYN-PWY': 40, 'PWY-7184': 41, 'PROSYN-PWY': 42, 'PWY-7921': 43, 'TRIGLSYN-PWY': 44, 'PWY-5067': 45, 'PWY-5966-1': 46, 'PWY-4621': 47, 'PWY3O-48': 48, 'PWY-7891': 49, 'PWY66-423': 50, 'PERIPLASMA-NAD-DEGRADATION': 51, 'PWY-7910': 52, 'PWY-6619': 53, 'PWY-6938': 54, 'PWY0-1466': 55, 'PWY0-1587': 56, 'PWY-7119': 57, 'PWY-7269-YEAST': 58, 'PWY-7985': 59, 'PWY-621': 60, 'PWY-5690': 61, 'PWY-7790': 62, 'PWY-6317': 63, 'PWY-7511-1': 64, 'PWY-8145': 65, 'PWY-7210': 66, 'PWY0-1280': 67, 'PWY-5905': 68, 'LARABITOLUTIL-PWY': 69, 'PWY-7409': 70, 'No_annotation': 71, 'PWY3O-4106': 72, 'PWY-7420': 73, 'PWY-7899': 74, 'HOMOSERSYN-PWY': 75, 'PWY-6502': 76, 'ASPARAGINE-DEG1-PWY': 77, 'PWY-7388': 78, 'PWY0-1597': 79, 'PWY-5458': 80, 'PWY-7856': 81, 'PANTO-PWY': 82, 'TRESYN-PWY': 83, 'PWY0-662': 84, 'PWY-3781-1': 85, 'ARGSPECAT-PWY': 86, 'PWY-6536': 87, 'GLYSYN-ALA-PWY': 88, 'PWY-8323': 89, 'PWY-5269': 90, 'PWY-7185': 91, 'HOMOSER-THRESYN-PWY': 92, 'PWY-8341': 93, 'PWY-6129': 94, 'PWY-7800': 95, 'PWY-7942': 96, 'PWY-2201-1': 97, 'PWY3O-6': 98, 'GLYOXYLATE-BYPASS': 99, 'PWY-723': 100, 'PWY-7375': 101, 'PWY3O-242': 102, 'PWY-6859': 103, 'PWY-6348': 104, 'PWY0-1296': 105, 'PWY-7851': 106, 'GLUTSYNIII-PWY': 107, 'PWY-4101': 108, 'PWY-7559': 109, 'PWY0-1305': 110, 'PWY-2161': 111, 'PWY-5669': 112, 'PWY3O-4107': 113, 'PWY-7546': 114, 'PWY-5941': 115, 'PWY-5194': 116, 'BSUBPOLYAMSYN-PWY': 117}\n"
     ]
    }
   ],
   "source": [
    "# assign a unique number to each pathway\n",
    "pwys_array2 = {pwy: index for index, pwy in enumerate(set(pwys_array))}\n",
    "print(pwys_array2)"
   ]
  },
  {
   "cell_type": "code",
   "execution_count": 12,
   "metadata": {},
   "outputs": [
    {
     "name": "stdout",
     "output_type": "stream",
     "text": [
      "[71, 71, 71, 71, 71, 71, 71, 4, 71, 71, 71, 71, 71, 71, 71, 71, 71, 71, 43, 71, 71, 71, 71, 71, 71, 71, 71, 71, 71, 71, 71, 4, 65, 71, 71, 71, 71, 4, 71, 71, 71, 71, 71, 71, 4, 71, 71, 71, 71, 71, 107, 71, 71, 71, 71, 71, 71, 71, 71, 71, 71, 71, 71, 71, 71, 71, 71, 71, 71, 71, 29, 71, 71, 71, 71, 104, 71, 71, 71, 71, 71, 71, 71, 71, 71, 71, 71, 71, 4, 71, 71, 71, 71, 71, 71, 71, 26, 71, 71, 71, 71, 71, 71, 71, 71, 4, 71, 71, 71, 71, 71, 71, 71, 71, 71, 71, 71, 71, 71, 71, 71, 71, 71, 71, 71, 71, 71, 71, 84, 71, 71, 114, 71, 71, 71, 15, 71, 71, 4, 71, 3, 64, 71, 71, 71, 71, 71, 71, 95, 71, 71, 71, 4, 71, 71, 71, 71, 71, 71, 71, 71, 71, 71, 71, 71, 4, 94, 40, 71, 87, 71, 71, 71, 71, 4, 89, 71, 71, 63, 4, 63, 22, 36, 71, 71, 78, 71, 4, 71, 71, 71, 71, 4, 9, 71, 36, 71, 71, 71, 71, 71, 71, 71, 71, 71, 71, 71, 71, 71, 71, 71, 71, 71, 71, 71, 9, 71, 71, 26, 71, 71, 71, 71, 71, 71, 71, 3, 71, 71, 71, 71, 71, 71, 71, 64, 71, 71, 4, 71, 71, 71, 71, 71, 71, 71, 4, 71, 71, 71, 4, 71, 71, 71, 113, 71, 71, 71, 71, 71, 3, 71, 71, 71, 64, 4, 71, 71, 71, 15, 71, 71, 71, 83, 4, 71, 71, 71, 71, 71, 71, 71, 71, 71, 28, 71, 71, 71, 4, 71, 71, 71, 71, 71, 71, 71, 16, 71, 71, 71, 71, 9, 71, 71, 71, 71, 71, 4, 71, 71, 71, 71, 71, 71, 71, 82, 71, 71, 71, 71, 71, 71, 57, 71, 71, 71, 71, 71, 71, 71, 71, 71, 71, 4, 71, 71, 71, 71, 71, 71, 71, 71, 71, 71, 43, 71, 4, 71, 71, 71, 116, 71, 71, 71, 71, 4, 71, 5, 71, 71, 71, 71, 71, 8, 71, 71, 71, 71, 71, 101, 71, 71, 71, 71, 71, 71, 4, 71, 114, 71, 4, 71, 71, 41, 71, 71, 71, 71, 16, 71, 71, 71, 71, 4, 71, 9, 71, 71, 71, 71, 71, 71, 71, 71, 71, 71, 64, 109, 71, 71, 71, 71, 71, 71, 71, 71, 71, 71, 71, 71, 71, 71, 71, 71, 71, 71, 71, 71, 71, 71, 71, 71, 71, 71, 71, 4, 71, 71, 71, 4, 71, 71, 71, 71, 71, 71, 71, 71, 4, 71, 71, 71, 4, 71, 71, 71, 72, 71, 71, 71, 71, 71, 71, 71, 71, 71, 71, 71, 71, 4, 71, 71, 71, 71, 71, 71, 71, 4, 71, 71, 71, 71, 71, 71, 71, 71, 71, 71, 71, 71, 71, 71, 15, 71, 41, 71, 71, 113, 71, 71, 71, 71, 71, 38, 71, 92, 71, 71, 71, 71, 71, 71, 64, 71, 71, 71, 71, 71, 71, 71, 71, 71, 71, 71, 71, 4, 71, 71, 71, 71, 71, 71, 71, 71, 71, 71, 71, 71, 71, 71, 71, 71, 71, 71, 71, 71, 71, 71, 71, 71, 71, 4, 71, 64, 71, 19, 71, 71, 71, 71, 71, 4, 71, 71, 71, 71, 71, 71, 49, 71, 71, 71, 71, 95, 71, 71, 16, 71, 71, 71, 4, 71, 71, 71, 71, 71, 71, 71, 71, 71, 71, 85, 71, 71, 71, 64, 71, 71, 4, 71, 4, 71, 71, 71, 71, 58, 71, 71, 71, 71, 71, 43, 43, 71, 71, 71, 71, 71, 71, 4, 56, 71, 71, 71, 71, 71, 71, 71, 71, 71, 71, 71, 71, 71, 71, 71, 71, 71, 71, 71, 71, 71, 71, 71, 64, 71, 71, 71, 71, 71, 71, 71, 71, 71, 90, 71, 71, 71, 71, 71, 71, 71, 71, 71, 71, 71, 71, 71, 71, 71, 71, 4, 71, 71, 4, 14, 71, 71, 71, 71, 71, 71, 71, 25, 71, 71, 71, 71, 71, 71, 71, 71, 94, 71, 71, 71, 71, 71, 71, 71, 71, 71, 71, 71, 93, 71, 71, 71, 13, 71, 71, 71, 71, 71, 71, 71, 71, 71, 71, 71, 71, 71, 3, 71, 71, 71, 71, 71, 71, 71, 71, 71, 71, 71, 108, 71, 4, 71, 71, 71, 71, 71, 71, 4, 71, 71, 71, 71, 71, 71, 71, 4, 4, 71, 71, 71, 71, 71, 71, 71, 71, 71, 71, 71, 4, 71, 15, 71, 71, 71, 71, 4, 71, 71, 4, 71, 4, 104, 71, 64, 71, 71, 71, 4, 64, 71, 71, 9, 71, 71, 71, 71, 71, 71, 71, 71, 71, 9, 71, 4, 71, 71, 71, 71, 71, 71, 71, 71, 71, 71, 71, 71, 71, 71, 71, 71, 64, 71, 71, 71, 4, 71, 71, 71, 71, 71, 71, 71, 71, 71, 71, 4, 71, 71, 71, 71, 71, 26, 71, 71, 71, 71, 71, 71, 4, 71, 71, 71, 64, 71, 71, 4, 71, 71, 71, 71, 71, 71, 71, 71, 4, 4, 71, 71, 71, 71, 113, 71, 75, 71, 71, 71, 71, 71, 71, 71, 71, 71, 71, 71, 71, 71, 71, 71, 71, 64, 85, 71, 71, 71, 71, 71, 71, 71, 71, 71, 71, 71, 71, 71, 113, 71, 71, 71, 71, 106, 71, 71, 71, 71, 71, 71, 71, 71, 71, 4, 71, 1, 71, 71, 71, 71, 71, 71, 71, 8, 71, 71, 71, 4, 71, 71, 71, 4, 71, 16, 71, 71, 71, 113, 71, 71, 89, 71, 71, 17, 71, 71, 71, 71, 71, 71, 4, 71, 71, 71, 64, 71, 71, 71, 71, 71, 71, 71, 15, 71, 71, 71, 71, 71, 71, 71, 71, 71, 44, 71, 21, 71, 71, 71, 71, 71, 57, 71, 71, 9, 71, 71, 71, 71, 71, 71, 71, 71, 71, 71, 71, 113, 71, 71, 71, 71, 4, 71, 71, 71, 71, 71, 71, 71, 71, 71, 71, 71, 71, 71, 71, 71, 71, 71, 71, 71, 71, 71, 71, 15, 71, 71, 71, 71, 71, 71, 71, 71, 71, 4, 71, 71, 71, 71, 4, 71, 71, 71, 71, 4, 71, 71, 71, 71, 71, 71, 71, 71, 71, 4, 71, 71, 71, 71, 71, 71, 71, 71, 71, 71, 71, 71, 71, 71, 71, 4, 4, 71, 71, 71, 71, 4, 71, 71, 71, 71, 71, 71, 71, 71, 71, 71, 71, 71, 4, 71, 71, 71, 71, 71, 71, 71, 71, 71, 71, 71, 71, 71, 71, 71, 71, 71, 71, 71, 71, 4, 71, 64, 71, 71, 71, 71, 71, 71, 71, 71, 71, 71, 71, 71, 71, 71, 71, 71, 71, 71, 71, 103, 71, 43, 71, 71, 71, 71, 71, 71, 71, 71, 71, 71, 71, 71, 71, 71, 71, 4, 44, 71, 71, 71, 71, 71, 71, 4, 71, 71, 71, 71, 71, 71, 71, 71, 71, 71, 71, 71, 71, 71, 71, 85, 71, 82, 71, 71, 71, 79, 71, 71, 71, 71, 71, 71, 3, 71, 71, 71, 71, 71, 71, 45, 64, 71, 71, 41, 71, 4, 71, 71, 59, 71, 85, 71, 71, 71, 4, 71, 71, 71, 71, 71, 89, 71, 31, 71, 4, 71, 71, 71, 71, 71, 71, 71, 71, 95, 71, 71, 71, 71, 71, 71, 71, 71, 71, 71, 71, 14, 71, 71, 71, 71, 71, 4, 71, 4, 71, 4, 71, 71, 71, 71, 71, 71, 71, 71, 71, 71, 4, 71, 71, 71, 71, 57, 71, 29, 71, 71, 71, 71, 71, 71, 71, 71, 71, 91, 71, 71, 71, 71, 71, 71, 71, 71, 71, 71, 4, 71, 75, 71, 71, 71, 71, 71, 71, 71, 71, 71, 71, 4, 48, 71, 71, 99, 71, 71, 71, 71, 4, 71, 71, 71, 71, 71, 71, 71, 71, 4, 71, 71, 71, 4, 71, 15, 71, 71, 4, 4, 71, 71, 71, 71, 71, 71, 71, 84, 64, 71, 71, 71, 71, 71, 71, 71, 71, 71, 71, 71, 64, 71, 71, 71, 71, 71, 71, 71, 64, 71, 71, 71, 71, 71, 71, 71, 71, 71, 71, 81, 71, 71, 71, 71, 71, 71, 71, 71, 25, 71, 71, 71, 71, 71, 71, 71, 71, 71, 96, 71, 71, 71, 71, 71, 71, 71, 71, 71, 71, 4, 71, 71, 71, 71, 5, 71, 71, 71, 97, 71, 71, 71, 71, 71, 71, 71, 71, 71, 71, 71, 71, 71, 64, 71, 71, 71, 71, 71, 71, 4, 4, 71, 71, 15, 71, 71, 71, 71, 88, 71, 71, 71, 71, 71, 71, 71, 71, 71, 71, 71, 71, 71, 4, 71, 71, 71, 71, 71, 71, 71, 71, 71, 71, 71, 37, 4, 71, 71, 71, 71, 71, 71, 71, 71, 71, 71, 71, 71, 71, 71, 71, 71, 45, 71, 71, 71, 4, 4, 71, 71, 71, 71, 71, 4, 71, 71, 71, 71, 71, 85, 71, 71, 64, 71, 71, 71, 71, 71, 71, 4, 71, 71, 4, 71, 4, 71, 71, 71, 4, 4, 71, 4, 71, 64, 71, 71, 71, 71, 71, 71, 71, 4, 71, 71, 71, 71, 71, 71, 3, 71, 8, 71, 71, 71, 71, 71, 113, 71, 71, 71, 71, 71, 3, 71, 71, 4, 71, 71, 4, 71, 71, 64, 71, 71, 4, 71, 71, 3, 71, 51, 71, 71, 71, 71, 71, 71, 71, 71, 71, 71, 71, 71, 71, 64, 71, 71, 71, 71, 71, 71, 71, 71, 71, 71, 71, 71, 71, 71, 71, 71, 71, 71, 71, 71, 71, 71, 71, 64, 71, 71, 71, 71, 71, 71, 71, 4, 71, 71, 101, 71, 71, 71, 71, 71, 71, 71, 71, 71, 71, 71, 71, 71, 71, 71, 71, 4, 71, 71, 71, 71, 71, 71, 71, 71, 71, 71, 71, 71, 71, 71, 71, 71, 56, 71, 71, 71, 71, 71, 71, 71, 71, 71, 71, 71, 4, 71, 37, 85, 71, 71, 71, 85, 71, 113, 71, 20, 71, 71, 71, 71, 4, 71, 4, 71, 71, 71, 71, 32, 71, 71, 71, 71, 71, 71, 71, 71, 71, 71, 71, 71, 71, 71, 71, 71, 71, 4, 71, 49, 71, 71, 64, 71, 71, 71, 71, 15, 71, 71, 71, 71, 71, 4, 71, 71, 4, 43, 71, 71, 71, 71, 71, 71, 71, 71, 64, 71, 71, 71, 71, 71, 4, 71, 71, 71, 71, 71, 71, 87, 71, 71, 71, 71, 71, 71, 71, 71, 10, 71, 71, 71, 71, 71, 9, 71, 4, 71, 71, 4, 71, 71, 71, 71, 71, 71, 71, 71, 71, 71, 71, 4, 4, 71, 71, 71, 71, 71, 71, 71, 71, 71, 71, 71, 71, 71, 71, 71, 71, 71, 71, 71, 4, 4, 71, 71, 71, 71, 71, 71, 71, 71, 71, 4, 71, 71, 71, 71, 71, 71, 71, 71, 71, 71, 71, 71, 71, 71, 71, 71, 71, 4, 71, 71, 71, 71, 71, 71, 71, 64, 71, 71, 71, 71, 71, 71, 71, 71, 71, 71, 71, 71, 71, 71, 71, 71, 4, 4, 71, 27, 71, 71, 71, 71, 71, 71, 71, 71, 112, 15, 71, 71, 71, 71, 71, 71, 4, 71, 85, 64, 15, 71, 71, 71, 71, 4, 71, 69, 71, 71, 71, 71, 71, 71, 4, 71, 71, 4, 71, 71, 71, 4, 4, 71, 71, 71, 71, 71, 71, 71, 71, 71, 71, 71, 71, 71, 64, 71, 3, 71, 71, 71, 71, 71, 71, 71, 71, 71, 4, 71, 71, 71, 61, 71, 22, 4, 71, 71, 71, 71, 4, 4, 71, 71, 71, 71, 71, 56, 71, 15, 71, 71, 71, 71, 71, 71, 71, 71, 106, 71, 71, 71, 71, 71, 71, 23, 71, 71, 71, 71, 71, 71, 71, 71, 9, 71, 71, 71, 71, 4, 71, 71, 71, 71, 71, 71, 71, 71, 71, 71, 71, 71, 71, 71, 71, 71, 71, 71, 71, 71, 71, 71, 71, 71, 71, 71, 71, 71, 71, 71, 71, 71, 71, 71, 71, 4, 71, 15, 71, 95, 71, 71, 71, 15, 15, 71, 71, 71, 71, 71, 71, 71, 71, 71, 42, 71, 71, 71, 39, 71, 71, 71, 71, 71, 71, 71, 21, 71, 71, 71, 71, 71, 85, 71, 71, 71, 71, 71, 71, 71, 71, 82, 71, 71, 4, 68, 71, 71, 4, 93, 71, 4, 71, 71, 71, 71, 71, 71, 71, 71, 71, 71, 71, 71, 71, 93, 71, 47, 71, 71, 71, 71, 71, 71, 4, 30, 71, 71, 71, 71, 32, 4, 71, 71, 71, 71, 71, 71, 71, 71, 71, 4, 71, 71, 71, 4, 71, 71, 71, 71, 71, 71, 71, 4, 71, 71, 71, 71, 71, 71, 66, 71, 71, 71, 71, 71, 71, 71, 64, 71, 71, 71, 71, 71, 71, 71, 71, 71, 64, 71, 71, 71, 71, 4, 71, 71, 71, 71, 71, 71, 71, 71, 71, 71, 71, 71, 71, 4, 71, 71, 71, 71, 71, 71, 71, 71, 71, 71, 71, 71, 71, 71, 71, 71, 71, 71, 4, 71, 71, 71, 71, 4, 4, 71, 71, 102, 71, 71, 71, 71, 71, 71, 71, 71, 4, 71, 71, 71, 71, 43, 71, 71, 71, 71, 71, 71, 71, 71, 71, 71, 64, 71, 71, 71, 71, 71, 71, 71, 71, 71, 71, 71, 71, 71, 64, 71, 71, 71, 94, 71, 71, 48, 71, 71, 71, 71, 71, 71, 4, 71, 71, 71, 71, 71, 71, 4, 71, 71, 15, 71, 71, 71, 3, 71, 71, 71, 71, 71, 71, 71, 71, 71, 71, 71, 115, 71, 71, 114, 71, 71, 50, 71, 85, 113, 71, 71, 71, 71, 71, 71, 71, 71, 4, 4, 71, 71, 71, 71, 71, 71, 71, 71, 71, 71, 71, 71, 71, 71, 71, 71, 71, 82, 71, 71, 71, 71, 71, 71, 71, 71, 4, 71, 71, 71, 71, 4, 71, 60, 24, 71, 71, 71, 71, 71, 71, 71, 71, 71, 71, 71, 71, 71, 71, 71, 71, 71, 71, 71, 71, 71, 71, 71, 71, 71, 71, 71, 71, 71, 71, 4, 71, 4, 99, 4, 71, 71, 71, 4, 71, 71, 71, 71, 3, 71, 71, 71, 71, 71, 71, 71, 71, 71, 71, 71, 71, 71, 71, 71, 71, 71, 71, 71, 71, 71, 71, 71, 71, 71, 71, 4, 4, 71, 71, 71, 71, 71, 71, 4, 71, 71, 71, 71, 71, 4, 71, 71, 71, 71, 71, 71, 4, 71, 71, 71, 71, 71, 71, 71, 71, 71, 71, 71, 71, 71, 71, 71, 71, 71, 71, 71, 71, 71, 19, 71, 36, 4, 71, 71, 71, 71, 71, 71, 71, 71, 71, 71, 71, 71, 71, 4, 71, 71, 71, 26, 24, 71, 71, 71, 71, 4, 71, 71, 71, 71, 57, 71, 45, 71, 3, 71, 71, 71, 71, 71, 71, 64, 71, 21, 71, 50, 71, 71, 71, 71, 71, 71, 71, 71, 85, 71, 71, 71, 71, 71, 71, 71, 71, 71, 71, 71, 89, 56, 71, 89, 71, 71, 71, 71, 71, 71, 71, 71, 71, 71, 71, 71, 71, 71, 71, 71, 71, 71, 71, 71, 71, 71, 71, 71, 71, 71, 71, 71, 71, 71, 71, 71, 71, 71, 4, 71, 4, 71, 71, 71, 71, 71, 71, 71, 31, 4, 71, 71, 71, 71, 71, 71, 71, 71, 71, 71, 71, 71, 71, 71, 71, 4, 71, 71, 64, 71, 71, 71, 71, 4, 71, 71, 89, 71, 71, 71, 71, 71, 71, 41, 68, 27, 71, 89, 71, 71, 4, 71, 71, 71, 71, 71, 71, 71, 71, 71, 71, 71, 71, 71, 71, 71, 71, 71, 71, 71, 4, 53, 71, 71, 71, 71, 71, 71, 71, 71, 71, 71, 71, 71, 71, 71, 71, 71, 71, 71, 71, 4, 8, 4, 71, 71, 71, 4, 71, 75, 71, 71, 43, 71, 71, 71, 4, 100, 71, 71, 71, 71, 71, 71, 71, 108, 71, 4, 71, 71, 71, 9, 71, 64, 71, 71, 71, 71, 71, 71, 71, 71, 71, 64, 4, 71, 4, 71, 71, 4, 71, 71, 71, 4, 71, 71, 71, 71, 71, 71, 71, 71, 71, 71, 71, 71, 71, 71, 78, 71, 71, 71, 71, 71, 71, 71, 4, 71, 71, 71, 71, 71, 71, 71, 71, 71, 71, 71, 71, 71, 71, 4, 71, 65, 71, 71, 71, 71, 4, 71, 71, 71, 71, 71, 71, 71, 71, 4, 71, 71, 4, 71, 71, 71, 71, 71, 71, 71, 71, 71, 71, 71, 71, 4, 71, 71, 111, 71, 71, 71, 71, 71, 4, 71, 71, 71, 71, 85, 71, 71, 54, 71, 71, 71, 71, 71, 71, 71, 71, 71, 71, 71, 71, 71, 71, 71, 71, 71, 71, 71, 71, 71, 33, 71, 71, 71, 71, 114, 71, 71, 71, 71, 71, 71, 71, 71, 71, 71, 71, 64, 4, 71, 71, 4, 62, 71, 71, 71, 71, 71, 71, 71, 71, 71, 71, 71, 4, 71, 71, 71, 71, 71, 71, 71, 71, 71, 71, 71, 71, 71, 36, 71, 113, 71, 71, 71, 71, 56, 71, 71, 71, 71, 71, 71, 71, 71, 71, 71, 57, 71, 71, 71, 71, 45, 71, 71, 3, 71, 71, 71, 71, 71, 4, 71, 116, 71, 106, 71, 71, 71, 71, 71, 4, 71, 71, 71, 71, 71, 71, 71, 4, 71, 71, 71, 71, 71, 71, 71, 71, 71, 71, 71, 71, 71, 71, 71, 71, 71, 71, 71, 71, 71, 71, 71, 71, 38, 71, 71, 4, 71, 71, 71, 71, 71, 71, 71, 71, 71, 71, 71, 71, 71, 71, 71, 71, 71, 71, 85, 71, 47, 71, 71, 4, 71, 71, 71, 71, 71, 71, 67, 71, 4, 4, 71, 71, 71, 71, 71, 71, 71, 71, 71, 71, 71, 71, 71, 71, 71, 71, 18, 71, 71, 38, 71, 71, 71, 64, 71, 71, 4, 4, 71, 71, 71, 71, 71, 71, 71, 71, 85, 71, 71, 4, 4, 71, 71, 71, 71, 71, 71, 71, 71, 71, 71, 4, 71, 4, 71, 15, 71, 71, 71, 71, 71, 71, 71, 71, 69, 71, 71, 71, 71, 71, 71, 71, 71, 71, 71, 71, 71, 71, 71, 71, 4, 71, 71, 71, 71, 71, 71, 64, 71, 4, 4, 64, 71, 71, 22, 71, 71, 71, 71, 71, 71, 71, 71, 71, 71, 71, 71, 71, 71, 71, 71, 64, 71, 71, 71, 4, 4, 71, 71, 71, 71, 71, 39, 114, 71, 71, 86, 71, 71, 76, 71, 4, 71, 71, 71, 71, 71, 71, 77, 77, 71, 71, 77, 71, 71, 71, 71, 71, 71, 71, 114, 71, 4, 93, 71, 71, 71, 71, 4, 71, 71, 93, 71, 71, 71, 71, 71, 71, 71, 71, 71, 71, 71, 71, 71, 71, 71, 71, 71, 71, 71, 4, 71, 4, 71, 71, 71, 71, 71, 71, 71, 71, 71, 71, 71, 71, 71, 71, 4, 71, 71, 71, 4, 71, 71, 71, 4, 71, 71, 71, 71, 71, 71, 71, 71, 45, 71, 57, 71, 71, 71, 71, 71, 71, 71, 71, 71, 71, 71, 71, 71, 71, 71, 71, 71, 71, 71, 4, 71, 71, 71, 71, 71, 71, 71, 71, 71, 71, 71, 71, 71, 71, 4, 71, 71, 4, 4, 4, 74, 71, 4, 71, 71, 71, 71, 71, 71, 71, 71, 71, 71, 64, 71, 71, 71, 71, 71, 4, 71, 36, 71, 71, 71, 71, 71, 71, 10, 71, 71, 50, 71, 71, 71, 9, 24, 64, 71, 4, 4, 71, 4, 71, 71, 71, 71, 4, 71, 64, 71, 71, 71, 71, 71, 71, 71, 71, 71, 71, 71, 4, 71, 71, 71, 71, 71, 71, 71, 71, 71, 71, 71, 71, 71, 71, 71, 71, 71, 71, 71, 71, 4, 71, 71, 71, 71, 71, 71, 71, 71, 71, 62, 71, 71, 71, 71, 71, 71, 71, 71, 4, 71, 71, 71, 71, 6, 71, 71, 71, 71, 71, 71, 71, 71, 4, 71, 71, 71, 71, 71, 71, 71, 71, 71, 71, 71, 71, 71, 71, 14, 4, 71, 71, 71, 4, 71, 71, 4, 71, 71, 71, 71, 3, 71, 71, 7, 71, 71, 71, 71, 71, 71, 71, 71, 71, 71, 56, 71, 71, 71, 29, 71, 71, 71, 71, 71, 71, 71, 71, 71, 80, 71, 71, 71, 71, 71, 4, 71, 71, 71, 71, 71, 71, 71, 71, 71, 71, 71, 71, 71, 71, 4, 71, 71, 71, 71, 71, 71, 71, 4, 98, 71, 64, 71, 71, 71, 71, 71, 71, 71, 71, 71, 71, 71, 71, 71, 71, 71, 62, 71, 71, 71, 4, 64, 71, 71, 71, 89, 71, 71, 71, 71, 4, 71, 71, 71, 71, 4, 71, 71, 71, 71, 71, 71, 71, 71, 71, 71, 70, 70, 31, 71, 94, 71, 4, 71, 71, 71, 71, 0, 71, 64, 49, 71, 71, 71, 71, 71, 71, 71, 71, 71, 71, 71, 71, 71, 71, 98, 71, 71, 71, 71, 71, 71, 71, 71, 71, 71, 22, 71, 71, 71, 71, 71, 71, 71, 71, 71, 71, 71, 71, 71, 71, 71, 71, 71, 71, 71, 71, 71, 4, 4, 71, 71, 71, 71, 71, 71, 71, 4, 4, 71, 71, 71, 71, 94, 71, 71, 4, 71, 71, 4, 71, 71, 71, 71, 71, 71, 71, 71, 4, 71, 71, 71, 71, 71, 71, 71, 71, 71, 71, 71, 71, 71, 71, 71, 71, 71, 71, 71, 71, 58, 71, 71, 71, 3, 71, 71, 71, 71, 71, 71, 71, 71, 71, 71, 71, 71, 71, 71, 44, 71, 71, 71, 4, 4, 71, 71, 71, 71, 71, 71, 71, 71, 71, 71, 71, 71, 71, 71, 71, 71, 4, 71, 71, 71, 71, 71, 71, 71, 71, 71, 71, 71, 71, 71, 71, 71, 4, 4, 71, 73, 71, 71, 71, 71, 71, 71, 71, 4, 71, 71, 71, 71, 71, 71, 71, 71, 71, 71, 71, 71, 71, 71, 71, 71, 36, 71, 71, 71, 71, 71, 71, 71, 71, 71, 4, 64, 71, 110, 71, 71, 71, 71, 85, 71, 71, 71, 71, 71, 71, 64, 71, 71, 71, 71, 71, 62, 9, 71, 71, 71, 64, 71, 71, 105, 71, 71, 71, 71, 71, 71, 4, 71, 71, 71, 4, 71, 71, 9, 9, 71, 4, 71, 71, 4, 71, 71, 10, 71, 71, 71, 71, 71, 71, 4, 71, 71, 71, 71, 2, 71, 71, 71, 71, 71, 71, 71, 71, 71, 71, 71, 71, 71, 71, 71, 71, 71, 71, 71, 71, 71, 71, 71, 71, 71, 71, 3, 71, 71, 71, 71, 71, 71, 71, 61, 71, 71, 15, 71, 71, 71, 71, 71, 71, 71, 3, 71, 71, 71, 71, 4, 71, 71, 71, 71, 26, 71, 71, 71, 71, 71, 71, 71, 71, 5, 71, 71, 71, 71, 71, 71, 71, 71, 71, 71, 71, 71, 71, 71, 71, 71, 71, 71, 44, 71, 71, 71, 71, 71, 71, 71, 71, 71, 4, 4, 71, 71, 71, 71, 71, 71, 71, 71, 71, 71, 71, 71, 71, 71, 71, 71, 4, 4, 71, 71, 52, 71, 71, 71, 71, 71, 71, 71, 71, 71, 71, 71, 71, 71, 71, 71, 71, 71, 71, 71, 71, 71, 71, 71, 71, 71, 71, 71, 71, 112, 64, 71, 71, 71, 71, 71, 71, 71, 71, 71, 71, 71, 71, 109, 71, 71, 71, 71, 71, 71, 54, 71, 4, 71, 71, 71, 71, 71, 71, 71, 71, 71, 71, 71, 71, 71, 71, 3, 4, 71, 71, 71, 71, 71, 4, 64, 71, 71, 71, 71, 71, 71, 71, 71, 71, 4, 71, 71, 71, 15, 71, 71, 71, 71, 71, 71, 71, 71, 71, 71, 64, 71, 71, 71, 4, 71, 71, 71, 71, 71, 71, 71, 4, 71, 71, 71, 4, 71, 71, 71, 71, 71, 71, 71, 71, 71, 71, 71, 71, 71, 71, 71, 71, 71, 71, 71, 71, 71, 71, 71, 71, 71, 71, 71, 71, 4, 71, 71, 71, 71, 71, 4, 71, 71, 71, 71, 71, 71, 4, 4, 71, 61, 71, 71, 71, 71, 71, 4, 71, 71, 71, 4, 71, 71, 4, 71, 71, 38, 71, 71, 71, 71, 71, 71, 4, 71, 71, 3, 71, 71, 71, 4, 71, 71, 71, 71, 71, 71, 71, 71, 4, 4, 71, 71, 4, 71, 71, 71, 71, 71, 71, 71, 71, 23, 23, 71, 71, 71, 71, 71, 71, 71, 71, 71, 71, 71, 71, 71, 71, 71, 71, 71, 71, 71, 71, 71, 71, 71, 71, 71, 70, 71, 71, 71, 71, 71, 71, 71, 71, 71, 71, 71, 71, 71, 71, 71, 71, 71, 71, 71, 71, 71, 71, 71, 71, 71, 71, 71, 71, 71, 71, 71, 71, 71, 4, 71, 4, 71, 71, 64, 4, 71, 71, 4, 71, 84, 71, 71, 71, 4, 16, 71, 113, 71, 71, 71, 71, 71, 95, 71, 71, 71, 71, 71, 71, 71, 71, 71, 71, 71, 71, 71, 71, 71, 71, 71, 15, 71, 71, 71, 22, 71, 71, 71, 71, 71, 71, 71, 71, 71, 71, 71, 71, 71, 71, 71, 71, 26, 26, 4, 71, 71, 71, 71, 50, 71, 71, 71, 71, 71, 71, 71, 4, 71, 71, 71, 71, 71, 71, 71, 71, 71, 71, 71, 71, 71, 71, 71, 71, 3, 71, 71, 71, 93, 71, 71, 71, 71, 71, 71, 71, 71, 71, 71, 71, 71, 71, 71, 71, 71, 71, 71, 113, 71, 71, 71, 71, 71, 71, 71, 71, 71, 71, 71, 71, 71, 71, 71, 14, 71, 71, 71, 71, 71, 71, 71, 71, 71, 106, 71, 71, 71, 71, 71, 71, 71, 85, 71, 3, 71, 71, 71, 71, 71, 71, 71, 71, 71, 64, 4, 71, 4, 3, 71, 71, 71, 71, 71, 71, 71, 71, 4, 71, 71, 43, 71, 71, 3, 71, 71, 71, 4, 71, 71, 71, 71, 71, 71, 71, 71, 71, 71, 71, 71, 71, 4, 71, 71, 4, 71, 71, 71, 71, 71, 61, 71, 71, 71, 61, 4, 71, 71, 71, 71, 71, 71, 71, 4, 71, 71, 71, 71, 71, 71, 71, 71, 71, 71, 15, 57, 71, 71, 71, 71, 71, 71, 4, 71, 71, 71, 4, 71, 71, 71, 71, 71, 71, 71, 71, 71, 71, 71, 71, 71, 71, 71, 113, 71, 71, 71, 71, 71, 71, 71, 71, 34, 71, 71, 11, 71, 71, 71, 71, 71, 71, 71, 71, 4, 71, 111, 71, 71, 71, 4, 71, 71, 64, 71, 4, 71, 95, 71, 71, 71, 71, 71, 71, 71, 71, 71, 71, 71, 71, 71, 71, 71, 71, 71, 4, 113, 71, 71, 71, 35, 71, 71, 71, 71, 71, 71, 71, 71, 71, 71, 71, 36, 71, 71, 71, 71, 71, 71, 71, 71, 44, 71, 71, 71, 71, 4, 71, 71, 43, 71, 71, 71, 71, 71, 71, 71, 15, 71, 71, 71, 64, 71, 71, 71, 71, 4, 71, 71, 71, 71, 71, 71, 71, 71, 71, 71, 71, 71, 71, 71, 71, 71, 71, 71, 71, 71, 4, 71, 71, 71, 71, 71, 71, 71, 71, 71, 71, 4, 71, 71, 71, 4, 71, 71, 71, 74, 71, 71, 71, 71, 71, 71, 71, 71, 71, 71, 71, 113, 71, 71, 71, 71, 71, 71, 71, 4, 71, 71, 71, 4, 71, 26, 71, 71, 71, 71, 71, 71, 71, 71, 71, 15, 71, 71, 71, 64, 71, 71, 71, 71, 71, 89, 71, 71, 71, 9, 71, 71, 71, 4, 71, 71, 71, 71, 71, 71, 4, 71, 71, 71, 71, 71, 71, 71, 71, 71, 22, 71, 71, 71, 57, 71, 71, 71, 71, 71, 71, 71, 71, 71, 15, 71, 71, 71, 71, 71, 15, 71, 71, 71, 71, 71, 4, 4, 71, 71, 71, 71, 4, 71, 71, 71, 4, 71, 71, 71, 71, 71, 71, 71, 71, 71, 71, 71, 71, 71, 4, 71, 71, 71, 71, 71, 71, 71, 71, 71, 12, 71, 71, 71, 71, 71, 71, 71, 71, 71, 71, 71, 15, 71, 71, 71, 71, 71, 71, 71, 71, 71, 71, 71, 81, 71, 71, 71, 71, 71, 71, 71, 71, 71, 71, 71, 71, 71, 71, 71, 71, 71, 71, 71, 71, 71, 71, 4, 4, 71, 71, 71, 71, 71, 71, 4, 71, 71, 71, 71, 71, 71, 71, 71, 71, 71, 4, 101, 71, 71, 46, 71, 71, 71, 71, 71, 71, 71, 71, 71, 71, 71, 71, 71, 71, 71, 71, 71, 71, 71, 71, 4, 71, 71, 61, 71, 71, 71, 71, 71, 71, 71, 71, 71, 71, 71, 71, 71, 71, 71, 71, 61, 71, 71, 71, 71, 71, 71, 71, 71, 71, 71, 71, 71, 71, 71, 71, 71, 71, 71, 71, 55, 71, 71, 71, 71, 71, 71, 15, 4, 71, 71, 71, 71, 71, 71, 15, 71, 71, 95, 71, 71, 71, 71, 4, 71, 4, 71, 71, 74, 71, 117, 71, 71, 71, 4, 71, 71, 71, 71, 15, 71, 71, 71, 71, 71, 71, 71, 71, 71, 71, 71, 71, 71, 71, 71, 71, 71, 71, 71, 71, 71, 71, 71, 71, 71, 31, 71, 71, 4, 71, 71, 71, 71, 95, 71, 71, 71, 64, 71, 71, 71, 4, 71, 71, 71, 71, 71, 71, 71, 71, 71, 115, 71, 71, 4, 10, 4, 71, 71, 71, 71, 71, 71, 71, 71, 71, 64, 71, 71, 4, 115, 71, 71, 71, 71, 71, 85, 71, 71, 71, 71, 4, 4, 71]\n"
     ]
    }
   ],
   "source": [
    "# assign each gene to a pathway-specific number\n",
    "pwys_array3 = []\n",
    "for pwy in pwys_array:\n",
    "    pwys_array3.append(pwys_array2[pwy])\n",
    "print(pwys_array3)"
   ]
  },
  {
   "cell_type": "code",
   "execution_count": null,
   "metadata": {},
   "outputs": [],
   "source": [
    "pwys_array2[\"No_annotation\"], pwys_array2[\"Multiple_pwys\"]"
   ]
  },
  {
   "cell_type": "code",
   "execution_count": 19,
   "metadata": {},
   "outputs": [
    {
     "ename": "",
     "evalue": "",
     "output_type": "error",
     "traceback": [
      "\u001b[1;31mCanceled future for execute_request message before replies were done"
     ]
    },
    {
     "ename": "",
     "evalue": "",
     "output_type": "error",
     "traceback": [
      "\u001b[1;31mThe Kernel crashed while executing code in the the current cell or a previous cell. Please review the code in the cell(s) to identify a possible cause of the failure. Click <a href='https://aka.ms/vscodeJupyterKernelCrash'>here</a> for more info. View Jupyter <a href='command:jupyter.viewOutput'>log</a> for further details."
     ]
    }
   ],
   "source": [
    "# global_embeddings = global_embeddings.to_numpy()\n",
    "mapper_def = get_mapper(embeddings=global_embeddings, mapper_dir=mapper_dir,\n",
    "                        save=\"mapper_costanzo_gi_score_stringent.pickle\", n_neighbors=15,\n",
    "                        min_dist=0.1, metric='cosine', random_state=seed)"
   ]
  },
  {
   "cell_type": "code",
   "execution_count": 15,
   "metadata": {},
   "outputs": [],
   "source": [
    "ckeys = get_ckeys(pwys_array2.values())\n",
    "ckeys[pwys_array2[\"No_annotation\"]] = \"#d3d3d3\" # set No annotation to gray\n",
    "ckeys[pwys_array2[\"Multiple_pwys\"]] = \"#d3d3d3\""
   ]
  },
  {
   "cell_type": "code",
   "execution_count": null,
   "metadata": {},
   "outputs": [],
   "source": [
    "plot_overall(mapper_dir, mapper_def, np.array(pwys_array3), ckeys, \"pathways\")"
   ]
  },
  {
   "attachments": {},
   "cell_type": "markdown",
   "metadata": {},
   "source": [
    "#### Run on one environment"
   ]
  },
  {
   "cell_type": "code",
   "execution_count": null,
   "metadata": {},
   "outputs": [],
   "source": [
    "# use one environment to debug code\n",
    "env = \"YPDCAFEIN40\"\n",
    "env_embeddings = rf[env].loc[~rf[env].isna()] # exclude NaNs\n",
    "env_embeddings_sub = env_embeddings.sort_values(ascending=False).iloc[:200] # top 200 genes\n",
    "env_embeddings_sub.head(), env_embeddings_sub.shape"
   ]
  },
  {
   "cell_type": "code",
   "execution_count": null,
   "metadata": {},
   "outputs": [],
   "source": []
  },
  {
   "cell_type": "code",
   "execution_count": null,
   "metadata": {},
   "outputs": [],
   "source": [
    "topics_array = make_topics_array(global_embeddings, env_embeddings_sub)\n",
    "topics_array.sum(), len(topics_array) # env_embeddings genes as 1, all other genes as 0, not all genes may be in the global adj mat"
   ]
  },
  {
   "cell_type": "code",
   "execution_count": null,
   "metadata": {},
   "outputs": [],
   "source": [
    "global_embeddings = global_embeddings.to_numpy()\n",
    "mapper_def = get_mapper(embeddings=global_embeddings, mapper_dir=mapper_dir,\n",
    "                        file=\"mapper_topics_all.pickle\", n_neighbors=15,\n",
    "                        min_dist=0.1, metric='cosine', random_state=seed)\n",
    "mapper_def"
   ]
  },
  {
   "cell_type": "code",
   "execution_count": null,
   "metadata": {},
   "outputs": [],
   "source": [
    "ckeys = get_ckeys(topics_array)\n",
    "ckeys"
   ]
  },
  {
   "cell_type": "code",
   "execution_count": null,
   "metadata": {},
   "outputs": [],
   "source": [
    "ckeys = {1: '#8000ff', 0: '#80ffb4'}\n",
    "plot_overall(mapper_dir, mapper_def, topics_array, ckeys, env)"
   ]
  },
  {
   "attachments": {},
   "cell_type": "markdown",
   "metadata": {},
   "source": [
    "#### Run UMAP on all the environments"
   ]
  },
  {
   "cell_type": "code",
   "execution_count": null,
   "metadata": {},
   "outputs": [],
   "source": [
    "global_embeddings = global_embeddings.to_numpy()\n",
    "mapper_def = get_mapper(embeddings=global_embeddings, mapper_dir=mapper_dir,\n",
    "                        file=\"mapper_topics_all.pickle\", n_neighbors=15,\n",
    "                        min_dist=0.1, metric='cosine', random_state=seed)\n",
    "\n",
    "for env in rf.columns:\n",
    "    env_embeddings = rf[env].loc[~rf[env].isna()] # exclude NaNs\n",
    "    env_embeddings_sub = env_embeddings.sort_values(ascending=False).iloc[:200] # top 200 genes\n",
    "    env_genes = env_embeddings_sub.index.to_list()\n",
    "    genes_array = make_topics_array(global_genes, env_genes) # gene mapping\n",
    "    # ckeys = get_ckeys(genes_array)\n",
    "    ckeys = {1: '#8000ff', 0: '#80ffb4'}\n",
    "    plot_overall(mapper_dir, mapper_def, genes_array, ckeys, env + \"_top200\")\n"
   ]
  },
  {
   "cell_type": "code",
   "execution_count": null,
   "metadata": {},
   "outputs": [],
   "source": [
    "for env in rf.columns:\n",
    "    env_embeddings = rf[env].loc[~rf[env].isna()] # exclude NaNs\n",
    "    env_embeddings_sub = env_embeddings.sort_values(ascending=False).iloc[:50] # top 50 genes\n",
    "    env_genes = env_embeddings_sub.index.to_list()\n",
    "    genes_array = make_topics_array(global_genes, env_genes) # gene mapping\n",
    "    # ckeys = get_ckeys(genes_array)\n",
    "    ckeys = {1: '#8000ff', 0: '#80ffb4'}\n",
    "    plot_overall(mapper_dir, mapper_def, genes_array, ckeys, env + \"_top50\")"
   ]
  },
  {
   "attachments": {},
   "cell_type": "markdown",
   "metadata": {},
   "source": [
    "### __Default parameters for Yeast GI Similarity Network Adjacency Matrix__"
   ]
  },
  {
   "cell_type": "code",
   "execution_count": null,
   "metadata": {},
   "outputs": [],
   "source": [
    "mapper_dir = work_dir / '_umap_default'\n",
    "global_sim_embeddings = dt.fread(f\"{proj_dir}/Data/Costanzo_2016/S3/Global_Similarity_Network_adjacency.csv\")\n",
    "global_sim_embeddings = global_sim_embeddings.to_pandas()\n",
    "global_sim_embeddings.set_index(\"C0\", inplace=True)\n",
    "global_sim_genes = global_sim_embeddings.index.to_list()\n",
    "global_sim_embeddings.head()"
   ]
  },
  {
   "attachments": {},
   "cell_type": "markdown",
   "metadata": {},
   "source": [
    "#### UMAP of Global Yeast GI Similarity Network Pathway Modules"
   ]
  },
  {
   "cell_type": "code",
   "execution_count": null,
   "metadata": {},
   "outputs": [],
   "source": [
    "map = pd.read_csv(f\"{proj_dir}/Data/Costanzo_2016/S288C_pathways.csv\", index_col=0)\n",
    "map.head()"
   ]
  },
  {
   "cell_type": "code",
   "execution_count": null,
   "metadata": {},
   "outputs": [],
   "source": [
    "pwys_array = []\n",
    "for gene in global_sim_genes:\n",
    "    if gene in map.index:\n",
    "        pwys_array.append(map.loc[gene].values[0][0]) # only the first pathway annotation\n",
    "    else:\n",
    "        pwys_array.append(\"No annotation\")\n",
    "len(pwys_array) # 5615"
   ]
  },
  {
   "cell_type": "code",
   "execution_count": null,
   "metadata": {},
   "outputs": [],
   "source": [
    "pwys_array2 = {ni: indi for indi, ni in enumerate(set(pwys_array))}\n",
    "numbers = [pwys_array2[ni] for ni in pwys_array2]\n",
    "print(pwys_array2)\n",
    "print(numbers)"
   ]
  },
  {
   "cell_type": "code",
   "execution_count": null,
   "metadata": {},
   "outputs": [],
   "source": [
    "pwys_array3 = []\n",
    "for pwy in pwys_array:\n",
    "    pwys_array3.append(pwys_array2[pwy])\n",
    "print(pwys_array3)"
   ]
  },
  {
   "cell_type": "code",
   "execution_count": null,
   "metadata": {},
   "outputs": [],
   "source": [
    "global_sim_embeddings = global_sim_embeddings.to_numpy()\n",
    "mapper_sim_def = get_mapper(embeddings=global_sim_embeddings, mapper_dir=mapper_dir,\\\n",
    "                        file=\"mapper_global_gi_sim.pickle\", n_neighbors=15,\\\n",
    "                        min_dist=0.1, metric='cosine', random_state=seed)\n",
    "ckeys = get_ckeys(numbers)\n",
    "ckeys[pwys_array2[\"No annotation\"]] = \"#d3d3d3\" # set No annotation to gray"
   ]
  },
  {
   "cell_type": "code",
   "execution_count": null,
   "metadata": {},
   "outputs": [],
   "source": [
    "plot_overall(mapper_dir, mapper_sim_def, np.array(pwys_array3), ckeys, \"sim_pathways\")"
   ]
  },
  {
   "cell_type": "markdown",
   "metadata": {},
   "source": [
    "## ___Testing___\n",
    "\n",
    "https://umap-learn.readthedocs.io/en/latest/sparse.html"
   ]
  },
  {
   "cell_type": "code",
   "execution_count": null,
   "metadata": {},
   "outputs": [],
   "source": [
    "primes = list(sympy.primerange(2, 110000))\n",
    "prime_to_column = {p:i for i, p in enumerate(primes)}"
   ]
  },
  {
   "cell_type": "code",
   "execution_count": null,
   "metadata": {},
   "outputs": [],
   "source": [
    "lil_matrix_rows = []\n",
    "lil_matrix_data = []\n",
    "for n in range(100000):\n",
    "    prime_factors = sympy.primefactors(n)\n",
    "    lil_matrix_rows.append([prime_to_column[p] for p in prime_factors])\n",
    "    lil_matrix_data.append([1] * len(prime_factors))\n",
    "len(lil_matrix_rows), len(lil_matrix_data)"
   ]
  },
  {
   "cell_type": "code",
   "execution_count": null,
   "metadata": {},
   "outputs": [],
   "source": [
    "factor_matrix = scipy.sparse.lil_matrix((len(lil_matrix_rows), len(primes)), \n",
    "                                        dtype=np.float32)"
   ]
  },
  {
   "cell_type": "code",
   "execution_count": null,
   "metadata": {},
   "outputs": [],
   "source": [
    "factor_matrix.rows = np.array(lil_matrix_rows)\n",
    "factor_matrix.data = np.array(lil_matrix_data)"
   ]
  },
  {
   "cell_type": "code",
   "execution_count": null,
   "metadata": {},
   "outputs": [],
   "source": [
    "factor_matrix.shape"
   ]
  },
  {
   "cell_type": "code",
   "execution_count": null,
   "metadata": {},
   "outputs": [],
   "source": [
    "mapper = umap.UMAP(metric='cosine', random_state=42, low_memory=True).fit(\n",
    "                                                                factor_matrix)"
   ]
  },
  {
   "cell_type": "code",
   "execution_count": null,
   "metadata": {},
   "outputs": [],
   "source": [
    "#umap.plot.points(mapper, values=np.arange(100000), theme='viridis')\n",
    "umap.plot.points(mapper, values=np.arange(100000))"
   ]
  },
  {
   "cell_type": "markdown",
   "metadata": {},
   "source": [
    "### Testing drawing each topic"
   ]
  },
  {
   "cell_type": "code",
   "execution_count": null,
   "metadata": {},
   "outputs": [],
   "source": [
    "topic_labels = []\n",
    "topic = -1\n",
    "for label in topics_array:\n",
    "  if label == topic:\n",
    "    topic_labels.append(f\"topic={topic}\")\n",
    "  else:\n",
    "    topic_labels.append(\"all_others\")\n",
    "\n",
    "labels_array =  np.array(topic_labels)\n",
    "\n",
    "umap_plot_each(mapper, labels_array, topic)\n"
   ]
  },
  {
   "cell_type": "markdown",
   "metadata": {},
   "source": [
    "### Color map"
   ]
  },
  {
   "cell_type": "code",
   "execution_count": null,
   "metadata": {},
   "outputs": [],
   "source": [
    "cmap = plt.cm.viridis\n",
    "for i in range(0,10):\n",
    "  print(cmap(1/10))"
   ]
  },
  {
   "cell_type": "code",
   "execution_count": null,
   "metadata": {},
   "outputs": [],
   "source": [
    "decades = np.arange(1910, 2020, 10)\n",
    "data = np.random.gamma(4, scale=0.2, size=1000)*110+1910\n",
    "\n",
    "fig, ax = plt.subplots(figsize=(8,4), facecolor='w')\n",
    "cnts, values, bars = ax.hist(data, edgecolor='k', bins=decades)\n",
    "ax.set_xticks(decades)\n",
    "cmap = plt.cm.viridis\n",
    "\n",
    "for i, (cnt, value, bar) in enumerate(zip(cnts, values, bars)):\n",
    "    bar.set_facecolor(cmap(cnt/cnts.max()))"
   ]
  },
  {
   "cell_type": "markdown",
   "metadata": {},
   "source": [
    "### umap.plot.points"
   ]
  },
  {
   "cell_type": "code",
   "execution_count": null,
   "metadata": {},
   "outputs": [],
   "source": [
    "help(umap.plot.points)"
   ]
  },
  {
   "cell_type": "code",
   "execution_count": null,
   "metadata": {},
   "outputs": [],
   "source": [
    "ckeys = {-1:gray}\n",
    "for topic, rgba in enumerate(rgbas):\n",
    "  # background is set to (0,0,0) so need need to think about it\n",
    "  #rgb_fore = rgba[:3]\n",
    "  #alpha    = rgba[3]\n",
    "  #rgb      = [rgb_f*alpha for rgb_f in rgb_fore]\n",
    "  ckeys[topic] = rgba"
   ]
  }
 ],
 "metadata": {
  "kernelspec": {
   "display_name": "bertopic",
   "language": "python",
   "name": "python3"
  },
  "language_info": {
   "codemirror_mode": {
    "name": "ipython",
    "version": 3
   },
   "file_extension": ".py",
   "mimetype": "text/x-python",
   "name": "python",
   "nbconvert_exporter": "python",
   "pygments_lexer": "ipython3",
   "version": "3.9.1"
  },
  "orig_nbformat": 4,
  "vscode": {
   "interpreter": {
    "hash": "f2e4e20fc18a85a340f79bd4194edb89aa809195ae81b8baa70bd7972a2a12f7"
   }
  }
 },
 "nbformat": 4,
 "nbformat_minor": 2
}
