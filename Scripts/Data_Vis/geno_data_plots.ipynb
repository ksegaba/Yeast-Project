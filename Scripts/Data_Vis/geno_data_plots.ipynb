{
 "cells": [
  {
   "cell_type": "markdown",
   "metadata": {},
   "source": [
    "# Peter 2018 genotype data plots"
   ]
  },
  {
   "cell_type": "code",
   "execution_count": 1,
   "metadata": {},
   "outputs": [
    {
     "name": "stderr",
     "output_type": "stream",
     "text": [
      "Loading required package: foreach\n",
      "Loading required package: iterators\n"
     ]
    }
   ],
   "source": [
    "setwd(\"/mnt/home/seguraab/Shiu_Lab/Project/Data/Peter_2018\")\n",
    "library(data.table)\n",
    "library(parallel)\n",
    "library(doParallel)\n",
    "\n",
    "#geno <- fread(\"geno.csv\")\n",
    "#geno <- as.matrix(geno, rownames=1, colnames=1)\n",
    "#geno[1:5,1:5]"
   ]
  },
  {
   "cell_type": "code",
   "execution_count": 5,
   "metadata": {},
   "outputs": [],
   "source": [
    "# https://www.biostars.org/p/369196/\n",
    "cores <- 1  # explicitly choose number of cores\n",
    "options('mc.cores' = cores)\n",
    "registerDoParallel(cores)\n",
    "\n",
    "# Use foreach to parallelize correlation calculation\n",
    "geno_corr <- foreach(i = seq_len(ncol(geno)),\n",
    "  .combine = rbind,\n",
    "  .multicombine = TRUE,\n",
    "  .inorder = FALSE,\n",
    "  .packages = c('data.table', 'doParallel')) %dopar% {\n",
    "  cor(geno[,i], geno, method = 'pearson')\n",
    "}\n",
    "fwrite(geno_corr, \"geno_corr.csv\")\n",
    "\n",
    "# Sanity check\n",
    "geno <- fread(\"geno.csv\")\n",
    "geno <- as.matrix(geno, rownames=1, colnames=1)\n",
    "table(round(cor(geno[,1:10]), 3) == round(geno_corr[1:10,1:10], 3))\n"
   ]
  },
  {
   "cell_type": "markdown",
   "metadata": {},
   "source": []
  },
  {
   "cell_type": "code",
   "execution_count": 3,
   "metadata": {},
   "outputs": [
    {
     "ename": "ERROR",
     "evalue": "Error in dt.fread(\"/mnt/home/seguraab/Shiu_Lab/Project/Data/Peter_2018/geno_transposed.csv_ordered_kinship.txt\"): could not find function \"dt.fread\"\n",
     "output_type": "error",
     "traceback": [
      "Error in dt.fread(\"/mnt/home/seguraab/Shiu_Lab/Project/Data/Peter_2018/geno_transposed.csv_ordered_kinship.txt\"): could not find function \"dt.fread\"\nTraceback:\n"
     ]
    }
   ],
   "source": []
  }
 ],
 "metadata": {
  "interpreter": {
   "hash": "9dcc07a022c76bc727e2fcc0d0061711d10e174557ae6e8628fde24e0973d5da"
  },
  "kernelspec": {
   "display_name": "R",
   "language": "R",
   "name": "ir"
  },
  "language_info": {
   "codemirror_mode": "r",
   "file_extension": ".r",
   "mimetype": "text/x-r-source",
   "name": "R",
   "pygments_lexer": "r",
   "version": "3.6.1"
  },
  "orig_nbformat": 4
 },
 "nbformat": 4,
 "nbformat_minor": 2
}
