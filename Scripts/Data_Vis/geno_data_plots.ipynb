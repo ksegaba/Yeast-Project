{
 "cells": [
  {
   "cell_type": "markdown",
   "metadata": {},
   "source": [
    "# Peter 2018 genotype data plots"
   ]
  },
  {
   "cell_type": "code",
   "execution_count": 4,
   "metadata": {},
   "outputs": [
    {
     "name": "stderr",
     "output_type": "stream",
     "text": [
      "Loading required package: foreach\n",
      "Loading required package: iterators\n"
     ]
    },
    {
     "data": {
      "text/html": [
       "<table>\n",
       "<thead><tr><th></th><th scope=col>chromosome1_1065</th><th scope=col>chromosome1_2789</th><th scope=col>chromosome1_2958</th><th scope=col>chromosome1_3053</th><th scope=col>chromosome1_3207</th></tr></thead>\n",
       "<tbody>\n",
       "\t<tr><th scope=row>AAC</th><td> 1</td><td> 1</td><td>1 </td><td> 1</td><td>1 </td></tr>\n",
       "\t<tr><th scope=row>AAD</th><td>-1</td><td>-1</td><td>1 </td><td>-1</td><td>1 </td></tr>\n",
       "\t<tr><th scope=row>AAL</th><td> 0</td><td> 1</td><td>1 </td><td> 1</td><td>1 </td></tr>\n",
       "\t<tr><th scope=row>AAN</th><td> 1</td><td> 1</td><td>1 </td><td> 1</td><td>1 </td></tr>\n",
       "\t<tr><th scope=row>AAP</th><td> 1</td><td> 1</td><td>1 </td><td> 1</td><td>1 </td></tr>\n",
       "</tbody>\n",
       "</table>\n"
      ],
      "text/latex": [
       "\\begin{tabular}{r|lllll}\n",
       "  & chromosome1\\_1065 & chromosome1\\_2789 & chromosome1\\_2958 & chromosome1\\_3053 & chromosome1\\_3207\\\\\n",
       "\\hline\n",
       "\tAAC &  1 &  1 & 1  &  1 & 1 \\\\\n",
       "\tAAD & -1 & -1 & 1  & -1 & 1 \\\\\n",
       "\tAAL &  0 &  1 & 1  &  1 & 1 \\\\\n",
       "\tAAN &  1 &  1 & 1  &  1 & 1 \\\\\n",
       "\tAAP &  1 &  1 & 1  &  1 & 1 \\\\\n",
       "\\end{tabular}\n"
      ],
      "text/markdown": [
       "\n",
       "| <!--/--> | chromosome1_1065 | chromosome1_2789 | chromosome1_2958 | chromosome1_3053 | chromosome1_3207 |\n",
       "|---|---|---|---|---|---|\n",
       "| AAC |  1 |  1 | 1  |  1 | 1  |\n",
       "| AAD | -1 | -1 | 1  | -1 | 1  |\n",
       "| AAL |  0 |  1 | 1  |  1 | 1  |\n",
       "| AAN |  1 |  1 | 1  |  1 | 1  |\n",
       "| AAP |  1 |  1 | 1  |  1 | 1  |\n",
       "\n"
      ],
      "text/plain": [
       "    chromosome1_1065 chromosome1_2789 chromosome1_2958 chromosome1_3053\n",
       "AAC  1                1               1                 1              \n",
       "AAD -1               -1               1                -1              \n",
       "AAL  0                1               1                 1              \n",
       "AAN  1                1               1                 1              \n",
       "AAP  1                1               1                 1              \n",
       "    chromosome1_3207\n",
       "AAC 1               \n",
       "AAD 1               \n",
       "AAL 1               \n",
       "AAN 1               \n",
       "AAP 1               "
      ]
     },
     "metadata": {},
     "output_type": "display_data"
    }
   ],
   "source": [
    "setwd(\"/mnt/home/seguraab/Shiu_Lab/Project/Data/Peter_2018\")\n",
    "library(data.table)\n",
    "library(parallel)\n",
    "library(doParallel)\n",
    "\n",
    "geno <- fread(\"geno.csv\")\n",
    "geno <- as.matrix(geno, rownames=1, colnames=1)\n",
    "geno[1:5,1:5]"
   ]
  },
  {
   "cell_type": "code",
   "execution_count": 5,
   "metadata": {},
   "outputs": [],
   "source": [
    "# https://www.biostars.org/p/369196/\n",
    "cores <- 1  # explicitly choose number of cores\n",
    "options('mc.cores' = cores)\n",
    "registerDoParallel(cores)\n",
    "\n",
    "# Use foreach to parallelize correlation calculation\n",
    "geno_corr <- foreach(i = seq_len(ncol(geno)),\n",
    "  .combine = rbind,\n",
    "  .multicombine = TRUE,\n",
    "  .inorder = FALSE,\n",
    "  .packages = c('data.table', 'doParallel')) %dopar% {\n",
    "  cor(geno[,i], geno, method = 'pearson')\n",
    "}\n",
    "fwrite(geno_corr, \"geno_corr.csv\")\n",
    "\n",
    "# Sanity check\n",
    "geno <- fread(\"geno.csv\")\n",
    "geno <- as.matrix(geno, rownames=1, colnames=1)\n",
    "table(round(cor(geno[,1:10]), 3) == round(geno_corr[1:10,1:10], 3))\n"
   ]
  }
 ],
 "metadata": {
  "interpreter": {
   "hash": "9dcc07a022c76bc727e2fcc0d0061711d10e174557ae6e8628fde24e0973d5da"
  },
  "kernelspec": {
   "display_name": "R",
   "language": "R",
   "name": "ir"
  },
  "language_info": {
   "codemirror_mode": "r",
   "file_extension": ".r",
   "mimetype": "text/x-r-source",
   "name": "R",
   "pygments_lexer": "r",
   "version": "3.6.1"
  },
  "orig_nbformat": 4
 },
 "nbformat": 4,
 "nbformat_minor": 2
}
